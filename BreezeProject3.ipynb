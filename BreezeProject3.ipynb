{
 "cells": [
  {
   "cell_type": "markdown",
   "id": "bfc27289-1262-4a04-9693-f4555ee10b9f",
   "metadata": {},
   "source": [
    "# Project 3 - Supervised Learning and Modeling  \n",
    "\n",
    "Kelley Breeze\n",
    "\n"
   ]
  },
  {
   "cell_type": "markdown",
   "id": "446ac5e8-0fd1-4b5e-bf9b-da434b80a6ee",
   "metadata": {},
   "source": [
    "# Introduction  \n",
    "\n",
    "Start by introducing the idea of supervised learning and describe what the point of using these models is.\n",
    "You should then discuss the dataset you’ll be using (including where you found it) and the goals/question\n",
    "you want to answer with your supervised learning models.\n",
    "\n",
    "\n",
    "In this project we will used supervised learning to build models in order to predict responses from our dataset. Before we get started let's go over a little bit about what supervised learning is, what we want to do with our models, and briefly discuss the dataset that we will be using throughout the project.\n",
    "\n",
    "### Supervised Learning  \n",
    "In supervised learning you have a response variable that you are trying to predict. If we fit a predictive model using supervised learning it will be possible to evaluate how well our model predicts the value of our response variable by using observations that were not used in fitting our model.  \n",
    "\n",
    "### Absenteeism At Work Dataset  \n",
    "\n",
    "The dataset that we will use contains information about absenteeism at a courier company in Brazil from July 2007 to July 2010. This dataset is from the UC Irvine Machine Learning Repository and can be found [here](https://archive-beta.ics.uci.edu/dataset/445/absenteeism+at+work). It contains 21 variables that are detailed below:  \n",
    "\n",
    "1.  `ID` - Individual Identification - There are 36 unique employees in the dataset. *This variable will be dropped prior to model building*\n",
    "2.  `Reason for absence` - **Categorical** - This is the recorded reason for the employee's absence. This is a categorical variable with 28 total levels that has been coded numerically. The values 1-21, corresponding to I through XXI, are taken from the World Health Organization's [International Statistical Classification of Diseases and Related Helth Problems 10 Revision](https://icd.who.int/browse10/2010/en#/). The remaining 7 values of this variable are:  \n",
    "    -  `22` - patient follow-up  \n",
    "    -  `23` - medical consultaion  \n",
    "    -  `24` - blood donation  \n",
    "    -  `25` - laboratory examination  \n",
    "    -  `26` - unjustified absence  \n",
    "    -  `27` - phisiotherapy  \n",
    "    -  `28` - dental consulation  \n",
    "    \n",
    "    Note that there are a total of 43 records for which the `Reason for absence` is recorded as `0`. We will simply refer to these as representing a value of `unkonwn` for our `Reason for absence` variable.  \n",
    "3.  `Month of absence` - **Categorical** - This is the month in which the absence is registered.  \n",
    "4.  `Day of the week` - **Categorical** - Work day (Monday through Friday) - Categorical - this is coded numerically with the following values:  \n",
    "    -  `2` - Monday  \n",
    "    -  `3` - Tuesday  \n",
    "    -  `4` - Wednesday  \n",
    "    -  `5` - Thursday  \n",
    "    -  `6` - Friday  \n",
    "5.  `Seasons` - **Categorical** - coded numerically with the following values:  \n",
    "    -  `1` - summer  \n",
    "    -  `2` - autumn  \n",
    "    -  `3` - winter  \n",
    "    -  `4` - spring  \n",
    "6. `Transportation expense` - **Numeric** -  This is the monthly transportation expense of each employee in dollars\n",
    "7. `Distance from Residence to Work` - **Numeric** - This is the distance in kilometers that the employee must travel each day to get to work measured in kilometers.    \n",
    "8. `Service time`  - **Numeric** - the service time of each employee in years.  \n",
    "9.  `Age` - **Numeric** - Age of employee in years.  \n",
    "10. `Work load Average/day` - **Numeric** - This is the average workload per day for the employee, units unknown.  \n",
    "11. `Hit target` - **Numeric** - This is an achievement percentage for periodic goals for each employee.  \n",
    "12. `Disciplinary failure (yes=1; no=0)` - **Categorical** - Binary yes/no about whether the employee recieved a disciplinary warning that month.   \n",
    "13. `Education` - **Categorical/Ordinal** - The highest education level attained by the employee, coded numerically with the following values:  \n",
    "    -  `1` - high school  \n",
    "    -  `2` - graduate  \n",
    "    -  `3` - postgraduate  \n",
    "    -  `4` - master and doctor  \n",
    "14. `Son` - **Numeric** - The total number of children of the employee.  \n",
    "15. `Social drinker` - **Categorical** - This is a binary variable where yes = `1` indicates that the employee is a social drinker and no = `0` indicates that the employee is not a social drinker.  \n",
    "16. `Social smoker`- **Categorical** - This is a binary variable where yes = `1` indicates that the employee is a social smoker and no = `0` indicates that the employee is not a social smoker.    \n",
    "17. `Pet` - **Numeric** - This is the number of pets owned by the employee.  \n",
    "18. `Weight` - ***Numeric** - The employee's weight in kilograms.  \n",
    "19. `Height` - **Numeric** - The employee's height in centimeters.  \n",
    "20. `Body mass index` - **Numeric** - The employee's body mass index. *This variable will be dropped as it is highly correlated with weight and height*   \n",
    "21. `Absenteeism time in hours` - This is our target variable. `Absenteeism time in hours` is a continuous numeric variable representing the number of hours that an employee was absent for a given instance of missed work.  \n",
    "\n",
    "### Modeling Goals  \n",
    "\n",
    "Our goal in working with this dataset is to build and test multiple models to predict the number of absentee hours (variable 21) for an employee based on a subset of the available variables (1-20) listed above. We will use five different modeling techniques to build, train, and test models based on the absenteeism at work dataset. We will then compare our models to one another to determine which model is the best at predicting our response variable. "
   ]
  },
  {
   "cell_type": "markdown",
   "id": "83d34e3c-e4dc-499b-8848-b9ff2bb02e6a",
   "metadata": {},
   "source": [
    "## Starting Spark Session and Reading in Our Data"
   ]
  },
  {
   "cell_type": "code",
   "execution_count": 14,
   "id": "7b0b0096-5efe-47ee-af56-3b8122f5b4fa",
   "metadata": {},
   "outputs": [],
   "source": []
  },
  {
   "cell_type": "code",
   "execution_count": 2,
   "id": "ea4b58ed-da20-46b6-b44d-6b7e7ab505b8",
   "metadata": {},
   "outputs": [],
   "source": [
    "import pandas as pd\n",
    "import numpy as np\n",
    "import matplotlib.pyplot as plt\n",
    "from pyspark.sql import SparkSession\n",
    "spark = SparkSession.builder.getOrCreate()"
   ]
  },
  {
   "cell_type": "code",
   "execution_count": 48,
   "id": "0f7a4cb7-f701-44c2-8f48-59c664c2a98d",
   "metadata": {
    "tags": []
   },
   "outputs": [
    {
     "data": {
      "text/html": [
       "<div>\n",
       "<style scoped>\n",
       "    .dataframe tbody tr th:only-of-type {\n",
       "        vertical-align: middle;\n",
       "    }\n",
       "\n",
       "    .dataframe tbody tr th {\n",
       "        vertical-align: top;\n",
       "    }\n",
       "\n",
       "    .dataframe thead th {\n",
       "        text-align: right;\n",
       "    }\n",
       "</style>\n",
       "<table border=\"1\" class=\"dataframe\">\n",
       "  <thead>\n",
       "    <tr style=\"text-align: right;\">\n",
       "      <th></th>\n",
       "      <th>ID</th>\n",
       "      <th>Reason for absence</th>\n",
       "      <th>Month of absence</th>\n",
       "      <th>Day of the week</th>\n",
       "      <th>Seasons</th>\n",
       "      <th>Transportation expense</th>\n",
       "      <th>Distance from Residence to Work</th>\n",
       "      <th>Service time</th>\n",
       "      <th>Age</th>\n",
       "      <th>Work load Average/day</th>\n",
       "      <th>...</th>\n",
       "      <th>Disciplinary failure</th>\n",
       "      <th>Education</th>\n",
       "      <th>Son</th>\n",
       "      <th>Social drinker</th>\n",
       "      <th>Social smoker</th>\n",
       "      <th>Pet</th>\n",
       "      <th>Weight</th>\n",
       "      <th>Height</th>\n",
       "      <th>Body mass index</th>\n",
       "      <th>Absenteeism time in hours</th>\n",
       "    </tr>\n",
       "  </thead>\n",
       "  <tbody>\n",
       "    <tr>\n",
       "      <th>0</th>\n",
       "      <td>11</td>\n",
       "      <td>26</td>\n",
       "      <td>7</td>\n",
       "      <td>3</td>\n",
       "      <td>1</td>\n",
       "      <td>289</td>\n",
       "      <td>36</td>\n",
       "      <td>13</td>\n",
       "      <td>33</td>\n",
       "      <td>239.554</td>\n",
       "      <td>...</td>\n",
       "      <td>0</td>\n",
       "      <td>1</td>\n",
       "      <td>2</td>\n",
       "      <td>1</td>\n",
       "      <td>0</td>\n",
       "      <td>1</td>\n",
       "      <td>90</td>\n",
       "      <td>172</td>\n",
       "      <td>30</td>\n",
       "      <td>4</td>\n",
       "    </tr>\n",
       "    <tr>\n",
       "      <th>1</th>\n",
       "      <td>36</td>\n",
       "      <td>0</td>\n",
       "      <td>7</td>\n",
       "      <td>3</td>\n",
       "      <td>1</td>\n",
       "      <td>118</td>\n",
       "      <td>13</td>\n",
       "      <td>18</td>\n",
       "      <td>50</td>\n",
       "      <td>239.554</td>\n",
       "      <td>...</td>\n",
       "      <td>1</td>\n",
       "      <td>1</td>\n",
       "      <td>1</td>\n",
       "      <td>1</td>\n",
       "      <td>0</td>\n",
       "      <td>0</td>\n",
       "      <td>98</td>\n",
       "      <td>178</td>\n",
       "      <td>31</td>\n",
       "      <td>0</td>\n",
       "    </tr>\n",
       "    <tr>\n",
       "      <th>2</th>\n",
       "      <td>3</td>\n",
       "      <td>23</td>\n",
       "      <td>7</td>\n",
       "      <td>4</td>\n",
       "      <td>1</td>\n",
       "      <td>179</td>\n",
       "      <td>51</td>\n",
       "      <td>18</td>\n",
       "      <td>38</td>\n",
       "      <td>239.554</td>\n",
       "      <td>...</td>\n",
       "      <td>0</td>\n",
       "      <td>1</td>\n",
       "      <td>0</td>\n",
       "      <td>1</td>\n",
       "      <td>0</td>\n",
       "      <td>0</td>\n",
       "      <td>89</td>\n",
       "      <td>170</td>\n",
       "      <td>31</td>\n",
       "      <td>2</td>\n",
       "    </tr>\n",
       "    <tr>\n",
       "      <th>3</th>\n",
       "      <td>7</td>\n",
       "      <td>7</td>\n",
       "      <td>7</td>\n",
       "      <td>5</td>\n",
       "      <td>1</td>\n",
       "      <td>279</td>\n",
       "      <td>5</td>\n",
       "      <td>14</td>\n",
       "      <td>39</td>\n",
       "      <td>239.554</td>\n",
       "      <td>...</td>\n",
       "      <td>0</td>\n",
       "      <td>1</td>\n",
       "      <td>2</td>\n",
       "      <td>1</td>\n",
       "      <td>1</td>\n",
       "      <td>0</td>\n",
       "      <td>68</td>\n",
       "      <td>168</td>\n",
       "      <td>24</td>\n",
       "      <td>4</td>\n",
       "    </tr>\n",
       "    <tr>\n",
       "      <th>4</th>\n",
       "      <td>11</td>\n",
       "      <td>23</td>\n",
       "      <td>7</td>\n",
       "      <td>5</td>\n",
       "      <td>1</td>\n",
       "      <td>289</td>\n",
       "      <td>36</td>\n",
       "      <td>13</td>\n",
       "      <td>33</td>\n",
       "      <td>239.554</td>\n",
       "      <td>...</td>\n",
       "      <td>0</td>\n",
       "      <td>1</td>\n",
       "      <td>2</td>\n",
       "      <td>1</td>\n",
       "      <td>0</td>\n",
       "      <td>1</td>\n",
       "      <td>90</td>\n",
       "      <td>172</td>\n",
       "      <td>30</td>\n",
       "      <td>2</td>\n",
       "    </tr>\n",
       "    <tr>\n",
       "      <th>...</th>\n",
       "      <td>...</td>\n",
       "      <td>...</td>\n",
       "      <td>...</td>\n",
       "      <td>...</td>\n",
       "      <td>...</td>\n",
       "      <td>...</td>\n",
       "      <td>...</td>\n",
       "      <td>...</td>\n",
       "      <td>...</td>\n",
       "      <td>...</td>\n",
       "      <td>...</td>\n",
       "      <td>...</td>\n",
       "      <td>...</td>\n",
       "      <td>...</td>\n",
       "      <td>...</td>\n",
       "      <td>...</td>\n",
       "      <td>...</td>\n",
       "      <td>...</td>\n",
       "      <td>...</td>\n",
       "      <td>...</td>\n",
       "      <td>...</td>\n",
       "    </tr>\n",
       "    <tr>\n",
       "      <th>95</th>\n",
       "      <td>28</td>\n",
       "      <td>28</td>\n",
       "      <td>11</td>\n",
       "      <td>3</td>\n",
       "      <td>4</td>\n",
       "      <td>225</td>\n",
       "      <td>26</td>\n",
       "      <td>9</td>\n",
       "      <td>28</td>\n",
       "      <td>306.345</td>\n",
       "      <td>...</td>\n",
       "      <td>0</td>\n",
       "      <td>1</td>\n",
       "      <td>1</td>\n",
       "      <td>0</td>\n",
       "      <td>0</td>\n",
       "      <td>2</td>\n",
       "      <td>69</td>\n",
       "      <td>169</td>\n",
       "      <td>24</td>\n",
       "      <td>3</td>\n",
       "    </tr>\n",
       "    <tr>\n",
       "      <th>96</th>\n",
       "      <td>11</td>\n",
       "      <td>7</td>\n",
       "      <td>11</td>\n",
       "      <td>4</td>\n",
       "      <td>4</td>\n",
       "      <td>289</td>\n",
       "      <td>36</td>\n",
       "      <td>13</td>\n",
       "      <td>33</td>\n",
       "      <td>306.345</td>\n",
       "      <td>...</td>\n",
       "      <td>0</td>\n",
       "      <td>1</td>\n",
       "      <td>2</td>\n",
       "      <td>1</td>\n",
       "      <td>0</td>\n",
       "      <td>1</td>\n",
       "      <td>90</td>\n",
       "      <td>172</td>\n",
       "      <td>30</td>\n",
       "      <td>24</td>\n",
       "    </tr>\n",
       "    <tr>\n",
       "      <th>97</th>\n",
       "      <td>15</td>\n",
       "      <td>23</td>\n",
       "      <td>11</td>\n",
       "      <td>5</td>\n",
       "      <td>4</td>\n",
       "      <td>291</td>\n",
       "      <td>31</td>\n",
       "      <td>12</td>\n",
       "      <td>40</td>\n",
       "      <td>306.345</td>\n",
       "      <td>...</td>\n",
       "      <td>0</td>\n",
       "      <td>1</td>\n",
       "      <td>1</td>\n",
       "      <td>1</td>\n",
       "      <td>0</td>\n",
       "      <td>1</td>\n",
       "      <td>73</td>\n",
       "      <td>171</td>\n",
       "      <td>25</td>\n",
       "      <td>3</td>\n",
       "    </tr>\n",
       "    <tr>\n",
       "      <th>98</th>\n",
       "      <td>33</td>\n",
       "      <td>23</td>\n",
       "      <td>12</td>\n",
       "      <td>3</td>\n",
       "      <td>4</td>\n",
       "      <td>248</td>\n",
       "      <td>25</td>\n",
       "      <td>14</td>\n",
       "      <td>47</td>\n",
       "      <td>261.306</td>\n",
       "      <td>...</td>\n",
       "      <td>0</td>\n",
       "      <td>1</td>\n",
       "      <td>2</td>\n",
       "      <td>0</td>\n",
       "      <td>0</td>\n",
       "      <td>1</td>\n",
       "      <td>86</td>\n",
       "      <td>165</td>\n",
       "      <td>32</td>\n",
       "      <td>1</td>\n",
       "    </tr>\n",
       "    <tr>\n",
       "      <th>99</th>\n",
       "      <td>34</td>\n",
       "      <td>19</td>\n",
       "      <td>12</td>\n",
       "      <td>3</td>\n",
       "      <td>4</td>\n",
       "      <td>118</td>\n",
       "      <td>10</td>\n",
       "      <td>10</td>\n",
       "      <td>37</td>\n",
       "      <td>261.306</td>\n",
       "      <td>...</td>\n",
       "      <td>0</td>\n",
       "      <td>1</td>\n",
       "      <td>0</td>\n",
       "      <td>0</td>\n",
       "      <td>0</td>\n",
       "      <td>0</td>\n",
       "      <td>83</td>\n",
       "      <td>172</td>\n",
       "      <td>28</td>\n",
       "      <td>64</td>\n",
       "    </tr>\n",
       "  </tbody>\n",
       "</table>\n",
       "<p>100 rows × 21 columns</p>\n",
       "</div>"
      ],
      "text/plain": [
       "    ID  Reason for absence  Month of absence  Day of the week  Seasons  \\\n",
       "0   11                  26                 7                3        1   \n",
       "1   36                   0                 7                3        1   \n",
       "2    3                  23                 7                4        1   \n",
       "3    7                   7                 7                5        1   \n",
       "4   11                  23                 7                5        1   \n",
       "..  ..                 ...               ...              ...      ...   \n",
       "95  28                  28                11                3        4   \n",
       "96  11                   7                11                4        4   \n",
       "97  15                  23                11                5        4   \n",
       "98  33                  23                12                3        4   \n",
       "99  34                  19                12                3        4   \n",
       "\n",
       "    Transportation expense  Distance from Residence to Work  Service time  \\\n",
       "0                      289                               36            13   \n",
       "1                      118                               13            18   \n",
       "2                      179                               51            18   \n",
       "3                      279                                5            14   \n",
       "4                      289                               36            13   \n",
       "..                     ...                              ...           ...   \n",
       "95                     225                               26             9   \n",
       "96                     289                               36            13   \n",
       "97                     291                               31            12   \n",
       "98                     248                               25            14   \n",
       "99                     118                               10            10   \n",
       "\n",
       "    Age  Work load Average/day  ...  Disciplinary failure  Education  Son  \\\n",
       "0    33                239.554  ...                     0          1    2   \n",
       "1    50                239.554  ...                     1          1    1   \n",
       "2    38                239.554  ...                     0          1    0   \n",
       "3    39                239.554  ...                     0          1    2   \n",
       "4    33                239.554  ...                     0          1    2   \n",
       "..  ...                    ...  ...                   ...        ...  ...   \n",
       "95   28                306.345  ...                     0          1    1   \n",
       "96   33                306.345  ...                     0          1    2   \n",
       "97   40                306.345  ...                     0          1    1   \n",
       "98   47                261.306  ...                     0          1    2   \n",
       "99   37                261.306  ...                     0          1    0   \n",
       "\n",
       "    Social drinker  Social smoker  Pet  Weight  Height  Body mass index  \\\n",
       "0                1              0    1      90     172               30   \n",
       "1                1              0    0      98     178               31   \n",
       "2                1              0    0      89     170               31   \n",
       "3                1              1    0      68     168               24   \n",
       "4                1              0    1      90     172               30   \n",
       "..             ...            ...  ...     ...     ...              ...   \n",
       "95               0              0    2      69     169               24   \n",
       "96               1              0    1      90     172               30   \n",
       "97               1              0    1      73     171               25   \n",
       "98               0              0    1      86     165               32   \n",
       "99               0              0    0      83     172               28   \n",
       "\n",
       "    Absenteeism time in hours  \n",
       "0                           4  \n",
       "1                           0  \n",
       "2                           2  \n",
       "3                           4  \n",
       "4                           2  \n",
       "..                        ...  \n",
       "95                          3  \n",
       "96                         24  \n",
       "97                          3  \n",
       "98                          1  \n",
       "99                         64  \n",
       "\n",
       "[100 rows x 21 columns]"
      ]
     },
     "execution_count": 48,
     "metadata": {},
     "output_type": "execute_result"
    }
   ],
   "source": [
    "# Reading in the data\n",
    "absentee_data_pd = pd.read_csv('Absenteeism_at_work.csv', sep = ';')\n",
    "\n",
    "# Reformatting variable names to replace spaces with _\n",
    "#absentee_data_pd.columns = absentee_data_pd.columns.str.replace(\" \", \"_\")\n",
    "\n",
    "# Using the head() method to make sure everything looks as expected\n",
    "absentee_data_pd.head(100)"
   ]
  },
  {
   "cell_type": "code",
   "execution_count": 38,
   "id": "3ecb3a57-b317-477a-bad9-120f99c146da",
   "metadata": {},
   "outputs": [
    {
     "data": {
      "text/plain": [
       "array([ 7,  8,  9, 10, 11, 12,  1,  2,  3,  4,  5,  6,  0])"
      ]
     },
     "execution_count": 38,
     "metadata": {},
     "output_type": "execute_result"
    }
   ],
   "source": [
    "table = absentee_data_pd.Month_of_absence.value_counts()\n",
    "absentee_data_pd.Month_of_absence.unique()"
   ]
  },
  {
   "cell_type": "code",
   "execution_count": 40,
   "id": "55ae1bc2-18ad-49a0-9d5e-ddddb038ced7",
   "metadata": {},
   "outputs": [
    {
     "data": {
      "text/plain": [
       "<BarContainer object of 5 artists>"
      ]
     },
     "execution_count": 40,
     "metadata": {},
     "output_type": "execute_result"
    },
    {
     "data": {
      "image/png": "[encoded data removed]",
      "text/plain": [
       "<Figure size 640x480 with 1 Axes>"
      ]
     },
     "metadata": {},
     "output_type": "display_data"
    }
   ],
   "source": [
    "plt.bar(x=absentee_data_pd.Day_of_the_week.unique(), height=absentee_data_pd.Day_of_the_week.value_counts())"
   ]
  },
  {
   "cell_type": "code",
   "execution_count": 39,
   "id": "b1145188-fec7-4320-9308-52d4cb47dd0a",
   "metadata": {
    "tags": []
   },
   "outputs": [
    {
     "data": {
      "text/plain": [
       "<BarContainer object of 13 artists>"
      ]
     },
     "execution_count": 39,
     "metadata": {},
     "output_type": "execute_result"
    },
    {
     "data": {
      "image/png": "[encoded data removed]",
      "text/plain": [
       "<Figure size 640x480 with 1 Axes>"
      ]
     },
     "metadata": {},
     "output_type": "display_data"
    }
   ],
   "source": [
    "plt.bar(x=absentee_data_pd.Month_of_absence.unique(), height=absentee_data_pd.Month_of_absence.value_counts())"
   ]
  },
  {
   "cell_type": "code",
   "execution_count": 41,
   "id": "6561f5fe-42c4-4a70-84fa-daf076601173",
   "metadata": {
    "tags": []
   },
   "outputs": [
    {
     "data": {
      "text/plain": [
       "<BarContainer object of 28 artists>"
      ]
     },
     "execution_count": 41,
     "metadata": {},
     "output_type": "execute_result"
    },
    {
     "data": {
      "image/png": "[encoded data removed]",
      "text/plain": [
       "<Figure size 640x480 with 1 Axes>"
      ]
     },
     "metadata": {},
     "output_type": "display_data"
    }
   ],
   "source": [
    "plt.bar(x=absentee_data_pd.Reason_for_absence.unique(), height=absentee_data_pd.Reason_for_absence.value_counts())"
   ]
  },
  {
   "cell_type": "code",
   "execution_count": 43,
   "id": "0d0d18dd-b4cc-4255-856e-fc77b1861ab8",
   "metadata": {
    "tags": []
   },
   "outputs": [
    {
     "data": {
      "text/plain": [
       "<BarContainer object of 4 artists>"
      ]
     },
     "execution_count": 43,
     "metadata": {},
     "output_type": "execute_result"
    },
    {
     "data": {
      "image/png": "[encoded data removed]",
      "text/plain": [
       "<Figure size 640x480 with 1 Axes>"
      ]
     },
     "metadata": {},
     "output_type": "display_data"
    }
   ],
   "source": [
    "plt.bar(x=absentee_data_pd.Seasons.unique(), height=absentee_data_pd.Seasons.value_counts())"
   ]
  },
  {
   "cell_type": "code",
   "execution_count": 7,
   "id": "2ba3feef-01bd-40d5-bbf6-6323c0e339e7",
   "metadata": {
    "tags": []
   },
   "outputs": [
    {
     "name": "stdout",
     "output_type": "stream",
     "text": [
      "<class 'pandas.core.frame.DataFrame'>\n",
      "RangeIndex: 740 entries, 0 to 739\n",
      "Data columns (total 21 columns):\n",
      " #   Column                           Non-Null Count  Dtype  \n",
      "---  ------                           --------------  -----  \n",
      " 0   ID                               740 non-null    int64  \n",
      " 1   Reason for absence               740 non-null    int64  \n",
      " 2   Month of absence                 740 non-null    int64  \n",
      " 3   Day of the week                  740 non-null    int64  \n",
      " 4   Seasons                          740 non-null    int64  \n",
      " 5   Transportation expense           740 non-null    int64  \n",
      " 6   Distance from Residence to Work  740 non-null    int64  \n",
      " 7   Service time                     740 non-null    int64  \n",
      " 8   Age                              740 non-null    int64  \n",
      " 9   Work load Average/day            740 non-null    float64\n",
      " 10  Hit target                       740 non-null    int64  \n",
      " 11  Disciplinary failure             740 non-null    int64  \n",
      " 12  Education                        740 non-null    int64  \n",
      " 13  Son                              740 non-null    int64  \n",
      " 14  Social drinker                   740 non-null    int64  \n",
      " 15  Social smoker                    740 non-null    int64  \n",
      " 16  Pet                              740 non-null    int64  \n",
      " 17  Weight                           740 non-null    int64  \n",
      " 18  Height                           740 non-null    int64  \n",
      " 19  Body mass index                  740 non-null    int64  \n",
      " 20  Absenteeism time in hours        740 non-null    int64  \n",
      "dtypes: float64(1), int64(20)\n",
      "memory usage: 121.5 KB\n"
     ]
    }
   ],
   "source": [
    "absentee_data_pd.info()"
   ]
  },
  {
   "cell_type": "markdown",
   "id": "44afa3a9-f777-4b25-a9f0-19507efa822d",
   "metadata": {},
   "source": [
    "### Summary Statistics About Our Variables"
   ]
  },
  {
   "cell_type": "code",
   "execution_count": 13,
   "id": "d9e4d806-e9ce-462b-b705-94eb127db6fb",
   "metadata": {
    "tags": []
   },
   "outputs": [
    {
     "data": {
      "text/html": [
       "<div>\n",
       "<style scoped>\n",
       "    .dataframe tbody tr th:only-of-type {\n",
       "        vertical-align: middle;\n",
       "    }\n",
       "\n",
       "    .dataframe tbody tr th {\n",
       "        vertical-align: top;\n",
       "    }\n",
       "\n",
       "    .dataframe thead th {\n",
       "        text-align: right;\n",
       "    }\n",
       "</style>\n",
       "<table border=\"1\" class=\"dataframe\">\n",
       "  <thead>\n",
       "    <tr style=\"text-align: right;\">\n",
       "      <th></th>\n",
       "      <th>ID</th>\n",
       "      <th>Reason_for_absence</th>\n",
       "      <th>Month_of_absence</th>\n",
       "      <th>Day_of_the_week</th>\n",
       "      <th>Seasons</th>\n",
       "      <th>Transportation_expense</th>\n",
       "      <th>Distance_from_Residence_to_Work</th>\n",
       "      <th>Service_time</th>\n",
       "      <th>Age</th>\n",
       "      <th>Work_load_Average/day_</th>\n",
       "      <th>...</th>\n",
       "      <th>Disciplinary_failure</th>\n",
       "      <th>Education</th>\n",
       "      <th>Son</th>\n",
       "      <th>Social_drinker</th>\n",
       "      <th>Social_smoker</th>\n",
       "      <th>Pet</th>\n",
       "      <th>Weight</th>\n",
       "      <th>Height</th>\n",
       "      <th>Body_mass_index</th>\n",
       "      <th>Absenteeism_time_in_hours</th>\n",
       "    </tr>\n",
       "  </thead>\n",
       "  <tbody>\n",
       "    <tr>\n",
       "      <th>count</th>\n",
       "      <td>740.000000</td>\n",
       "      <td>740.000000</td>\n",
       "      <td>740.000000</td>\n",
       "      <td>740.000000</td>\n",
       "      <td>740.000000</td>\n",
       "      <td>740.000000</td>\n",
       "      <td>740.000000</td>\n",
       "      <td>740.000000</td>\n",
       "      <td>740.000000</td>\n",
       "      <td>740.000000</td>\n",
       "      <td>...</td>\n",
       "      <td>740.000000</td>\n",
       "      <td>740.000000</td>\n",
       "      <td>740.000000</td>\n",
       "      <td>740.000000</td>\n",
       "      <td>740.000000</td>\n",
       "      <td>740.000000</td>\n",
       "      <td>740.000000</td>\n",
       "      <td>740.000000</td>\n",
       "      <td>740.000000</td>\n",
       "      <td>740.000000</td>\n",
       "    </tr>\n",
       "    <tr>\n",
       "      <th>mean</th>\n",
       "      <td>18.017568</td>\n",
       "      <td>19.216216</td>\n",
       "      <td>6.324324</td>\n",
       "      <td>3.914865</td>\n",
       "      <td>2.544595</td>\n",
       "      <td>221.329730</td>\n",
       "      <td>29.631081</td>\n",
       "      <td>12.554054</td>\n",
       "      <td>36.450000</td>\n",
       "      <td>271.490235</td>\n",
       "      <td>...</td>\n",
       "      <td>0.054054</td>\n",
       "      <td>1.291892</td>\n",
       "      <td>1.018919</td>\n",
       "      <td>0.567568</td>\n",
       "      <td>0.072973</td>\n",
       "      <td>0.745946</td>\n",
       "      <td>79.035135</td>\n",
       "      <td>172.114865</td>\n",
       "      <td>26.677027</td>\n",
       "      <td>6.924324</td>\n",
       "    </tr>\n",
       "    <tr>\n",
       "      <th>std</th>\n",
       "      <td>11.021247</td>\n",
       "      <td>8.433406</td>\n",
       "      <td>3.436287</td>\n",
       "      <td>1.421675</td>\n",
       "      <td>1.111831</td>\n",
       "      <td>66.952223</td>\n",
       "      <td>14.836788</td>\n",
       "      <td>4.384873</td>\n",
       "      <td>6.478772</td>\n",
       "      <td>39.058116</td>\n",
       "      <td>...</td>\n",
       "      <td>0.226277</td>\n",
       "      <td>0.673238</td>\n",
       "      <td>1.098489</td>\n",
       "      <td>0.495749</td>\n",
       "      <td>0.260268</td>\n",
       "      <td>1.318258</td>\n",
       "      <td>12.883211</td>\n",
       "      <td>6.034995</td>\n",
       "      <td>4.285452</td>\n",
       "      <td>13.330998</td>\n",
       "    </tr>\n",
       "    <tr>\n",
       "      <th>min</th>\n",
       "      <td>1.000000</td>\n",
       "      <td>0.000000</td>\n",
       "      <td>0.000000</td>\n",
       "      <td>2.000000</td>\n",
       "      <td>1.000000</td>\n",
       "      <td>118.000000</td>\n",
       "      <td>5.000000</td>\n",
       "      <td>1.000000</td>\n",
       "      <td>27.000000</td>\n",
       "      <td>205.917000</td>\n",
       "      <td>...</td>\n",
       "      <td>0.000000</td>\n",
       "      <td>1.000000</td>\n",
       "      <td>0.000000</td>\n",
       "      <td>0.000000</td>\n",
       "      <td>0.000000</td>\n",
       "      <td>0.000000</td>\n",
       "      <td>56.000000</td>\n",
       "      <td>163.000000</td>\n",
       "      <td>19.000000</td>\n",
       "      <td>0.000000</td>\n",
       "    </tr>\n",
       "    <tr>\n",
       "      <th>25%</th>\n",
       "      <td>9.000000</td>\n",
       "      <td>13.000000</td>\n",
       "      <td>3.000000</td>\n",
       "      <td>3.000000</td>\n",
       "      <td>2.000000</td>\n",
       "      <td>179.000000</td>\n",
       "      <td>16.000000</td>\n",
       "      <td>9.000000</td>\n",
       "      <td>31.000000</td>\n",
       "      <td>244.387000</td>\n",
       "      <td>...</td>\n",
       "      <td>0.000000</td>\n",
       "      <td>1.000000</td>\n",
       "      <td>0.000000</td>\n",
       "      <td>0.000000</td>\n",
       "      <td>0.000000</td>\n",
       "      <td>0.000000</td>\n",
       "      <td>69.000000</td>\n",
       "      <td>169.000000</td>\n",
       "      <td>24.000000</td>\n",
       "      <td>2.000000</td>\n",
       "    </tr>\n",
       "    <tr>\n",
       "      <th>50%</th>\n",
       "      <td>18.000000</td>\n",
       "      <td>23.000000</td>\n",
       "      <td>6.000000</td>\n",
       "      <td>4.000000</td>\n",
       "      <td>3.000000</td>\n",
       "      <td>225.000000</td>\n",
       "      <td>26.000000</td>\n",
       "      <td>13.000000</td>\n",
       "      <td>37.000000</td>\n",
       "      <td>264.249000</td>\n",
       "      <td>...</td>\n",
       "      <td>0.000000</td>\n",
       "      <td>1.000000</td>\n",
       "      <td>1.000000</td>\n",
       "      <td>1.000000</td>\n",
       "      <td>0.000000</td>\n",
       "      <td>0.000000</td>\n",
       "      <td>83.000000</td>\n",
       "      <td>170.000000</td>\n",
       "      <td>25.000000</td>\n",
       "      <td>3.000000</td>\n",
       "    </tr>\n",
       "    <tr>\n",
       "      <th>75%</th>\n",
       "      <td>28.000000</td>\n",
       "      <td>26.000000</td>\n",
       "      <td>9.000000</td>\n",
       "      <td>5.000000</td>\n",
       "      <td>4.000000</td>\n",
       "      <td>260.000000</td>\n",
       "      <td>50.000000</td>\n",
       "      <td>16.000000</td>\n",
       "      <td>40.000000</td>\n",
       "      <td>294.217000</td>\n",
       "      <td>...</td>\n",
       "      <td>0.000000</td>\n",
       "      <td>1.000000</td>\n",
       "      <td>2.000000</td>\n",
       "      <td>1.000000</td>\n",
       "      <td>0.000000</td>\n",
       "      <td>1.000000</td>\n",
       "      <td>89.000000</td>\n",
       "      <td>172.000000</td>\n",
       "      <td>31.000000</td>\n",
       "      <td>8.000000</td>\n",
       "    </tr>\n",
       "    <tr>\n",
       "      <th>max</th>\n",
       "      <td>36.000000</td>\n",
       "      <td>28.000000</td>\n",
       "      <td>12.000000</td>\n",
       "      <td>6.000000</td>\n",
       "      <td>4.000000</td>\n",
       "      <td>388.000000</td>\n",
       "      <td>52.000000</td>\n",
       "      <td>29.000000</td>\n",
       "      <td>58.000000</td>\n",
       "      <td>378.884000</td>\n",
       "      <td>...</td>\n",
       "      <td>1.000000</td>\n",
       "      <td>4.000000</td>\n",
       "      <td>4.000000</td>\n",
       "      <td>1.000000</td>\n",
       "      <td>1.000000</td>\n",
       "      <td>8.000000</td>\n",
       "      <td>108.000000</td>\n",
       "      <td>196.000000</td>\n",
       "      <td>38.000000</td>\n",
       "      <td>120.000000</td>\n",
       "    </tr>\n",
       "  </tbody>\n",
       "</table>\n",
       "<p>8 rows × 21 columns</p>\n",
       "</div>"
      ],
      "text/plain": [
       "               ID  Reason_for_absence  Month_of_absence  Day_of_the_week  \\\n",
       "count  740.000000          740.000000        740.000000       740.000000   \n",
       "mean    18.017568           19.216216          6.324324         3.914865   \n",
       "std     11.021247            8.433406          3.436287         1.421675   \n",
       "min      1.000000            0.000000          0.000000         2.000000   \n",
       "25%      9.000000           13.000000          3.000000         3.000000   \n",
       "50%     18.000000           23.000000          6.000000         4.000000   \n",
       "75%     28.000000           26.000000          9.000000         5.000000   \n",
       "max     36.000000           28.000000         12.000000         6.000000   \n",
       "\n",
       "          Seasons  Transportation_expense  Distance_from_Residence_to_Work  \\\n",
       "count  740.000000              740.000000                       740.000000   \n",
       "mean     2.544595              221.329730                        29.631081   \n",
       "std      1.111831               66.952223                        14.836788   \n",
       "min      1.000000              118.000000                         5.000000   \n",
       "25%      2.000000              179.000000                        16.000000   \n",
       "50%      3.000000              225.000000                        26.000000   \n",
       "75%      4.000000              260.000000                        50.000000   \n",
       "max      4.000000              388.000000                        52.000000   \n",
       "\n",
       "       Service_time         Age  Work_load_Average/day_  ...  \\\n",
       "count    740.000000  740.000000              740.000000  ...   \n",
       "mean      12.554054   36.450000              271.490235  ...   \n",
       "std        4.384873    6.478772               39.058116  ...   \n",
       "min        1.000000   27.000000              205.917000  ...   \n",
       "25%        9.000000   31.000000              244.387000  ...   \n",
       "50%       13.000000   37.000000              264.249000  ...   \n",
       "75%       16.000000   40.000000              294.217000  ...   \n",
       "max       29.000000   58.000000              378.884000  ...   \n",
       "\n",
       "       Disciplinary_failure   Education         Son  Social_drinker  \\\n",
       "count            740.000000  740.000000  740.000000      740.000000   \n",
       "mean               0.054054    1.291892    1.018919        0.567568   \n",
       "std                0.226277    0.673238    1.098489        0.495749   \n",
       "min                0.000000    1.000000    0.000000        0.000000   \n",
       "25%                0.000000    1.000000    0.000000        0.000000   \n",
       "50%                0.000000    1.000000    1.000000        1.000000   \n",
       "75%                0.000000    1.000000    2.000000        1.000000   \n",
       "max                1.000000    4.000000    4.000000        1.000000   \n",
       "\n",
       "       Social_smoker         Pet      Weight      Height  Body_mass_index  \\\n",
       "count     740.000000  740.000000  740.000000  740.000000       740.000000   \n",
       "mean        0.072973    0.745946   79.035135  172.114865        26.677027   \n",
       "std         0.260268    1.318258   12.883211    6.034995         4.285452   \n",
       "min         0.000000    0.000000   56.000000  163.000000        19.000000   \n",
       "25%         0.000000    0.000000   69.000000  169.000000        24.000000   \n",
       "50%         0.000000    0.000000   83.000000  170.000000        25.000000   \n",
       "75%         0.000000    1.000000   89.000000  172.000000        31.000000   \n",
       "max         1.000000    8.000000  108.000000  196.000000        38.000000   \n",
       "\n",
       "       Absenteeism_time_in_hours  \n",
       "count                 740.000000  \n",
       "mean                    6.924324  \n",
       "std                    13.330998  \n",
       "min                     0.000000  \n",
       "25%                     2.000000  \n",
       "50%                     3.000000  \n",
       "75%                     8.000000  \n",
       "max                   120.000000  \n",
       "\n",
       "[8 rows x 21 columns]"
      ]
     },
     "execution_count": 13,
     "metadata": {},
     "output_type": "execute_result"
    }
   ],
   "source": [
    "absentee_data_pd.describe()"
   ]
  },
  {
   "cell_type": "code",
   "execution_count": 33,
   "id": "7e74e103-f5bd-44fd-a7bc-133d49e7457f",
   "metadata": {},
   "outputs": [
    {
     "data": {
      "text/plain": [
       "36"
      ]
     },
     "execution_count": 33,
     "metadata": {},
     "output_type": "execute_result"
    }
   ],
   "source": [
    "absentee_data_pd.ID.nunique()"
   ]
  },
  {
   "cell_type": "code",
   "execution_count": 35,
   "id": "7d0153e6-c7b2-4294-979f-24ca27d9dd1a",
   "metadata": {
    "tags": []
   },
   "outputs": [
    {
     "data": {
      "text/plain": [
       "23    149\n",
       "28    112\n",
       "27     69\n",
       "13     55\n",
       "0      43\n",
       "19     40\n",
       "22     38\n",
       "26     33\n",
       "25     31\n",
       "11     26\n",
       "10     25\n",
       "18     21\n",
       "14     19\n",
       "1      16\n",
       "7      15\n",
       "6       8\n",
       "12      8\n",
       "21      6\n",
       "8       6\n",
       "9       4\n",
       "5       3\n",
       "16      3\n",
       "24      3\n",
       "15      2\n",
       "4       2\n",
       "3       1\n",
       "2       1\n",
       "17      1\n",
       "Name: Reason_for_absence, dtype: int64"
      ]
     },
     "execution_count": 35,
     "metadata": {},
     "output_type": "execute_result"
    }
   ],
   "source": [
    "absentee_data_pd.Reason_for_absence.value_counts()"
   ]
  },
  {
   "cell_type": "code",
   "execution_count": 20,
   "id": "cb2db3c8-f522-4329-b603-58efd6966dc8",
   "metadata": {
    "collapsed": true,
    "jupyter": {
     "outputs_hidden": true
    },
    "tags": []
   },
   "outputs": [
    {
     "data": {
      "text/plain": [
       "3     113\n",
       "28     76\n",
       "34     55\n",
       "22     46\n",
       "20     42\n",
       "11     40\n",
       "15     37\n",
       "36     34\n",
       "24     30\n",
       "14     29\n",
       "33     24\n",
       "10     24\n",
       "1      23\n",
       "17     20\n",
       "5      19\n",
       "18     16\n",
       "13     15\n",
       "25     10\n",
       "9       8\n",
       "6       8\n",
       "23      8\n",
       "27      7\n",
       "12      7\n",
       "30      7\n",
       "2       6\n",
       "7       6\n",
       "26      5\n",
       "32      5\n",
       "29      5\n",
       "19      3\n",
       "21      3\n",
       "31      3\n",
       "8       2\n",
       "16      2\n",
       "4       1\n",
       "35      1\n",
       "Name: ID, dtype: int64"
      ]
     },
     "execution_count": 20,
     "metadata": {},
     "output_type": "execute_result"
    }
   ],
   "source": [
    "absentee_data_pd.ID.value_counts()"
   ]
  },
  {
   "cell_type": "markdown",
   "id": "4b119d65-61ba-4a89-a295-a10cbf0cbaa7",
   "metadata": {},
   "source": [
    "We can now convert `absentee_data_pd` to a Spark SQL dataframe. We will save this as `absentee_spark_df`."
   ]
  },
  {
   "cell_type": "code",
   "execution_count": 47,
   "id": "30065505-14a9-46ea-9afa-6bbaabca3626",
   "metadata": {
    "tags": []
   },
   "outputs": [
    {
     "name": "stderr",
     "output_type": "stream",
     "text": [
      "/usr/local/spark/python/pyspark/sql/pandas/conversion.py:474: FutureWarning: iteritems is deprecated and will be removed in a future version. Use .items instead.\n",
      "  for column, series in pdf.iteritems():\n",
      "/usr/local/spark/python/pyspark/sql/pandas/conversion.py:486: FutureWarning: iteritems is deprecated and will be removed in a future version. Use .items instead.\n",
      "  for column, series in pdf.iteritems():\n"
     ]
    },
    {
     "name": "stdout",
     "output_type": "stream",
     "text": [
      "+---+------------------+----------------+---------------+-------+----------------------+-------------------------------+------------+---+---------------------+----------+--------------------+---------+---+--------------+-------------+---+------+------+---------------+-------------------------+\n",
      "| ID|Reason_for_absence|Month_of_absence|Day_of_the_week|Seasons|Transportation_expense|Distance_from_Residence_to_Work|Service_time|Age|Work_load_Average/day|Hit_target|Disciplinary_failure|Education|Son|Social_drinker|Social_smoker|Pet|Weight|Height|Body_mass_index|Absenteeism_time_in_hours|\n",
      "+---+------------------+----------------+---------------+-------+----------------------+-------------------------------+------------+---+---------------------+----------+--------------------+---------+---+--------------+-------------+---+------+------+---------------+-------------------------+\n",
      "| 11|                26|               7|              3|      1|                   289|                             36|          13| 33|              239.554|        97|                   0|        1|  2|             1|            0|  1|    90|   172|             30|                        4|\n",
      "| 36|                 0|               7|              3|      1|                   118|                             13|          18| 50|              239.554|        97|                   1|        1|  1|             1|            0|  0|    98|   178|             31|                        0|\n",
      "|  3|                23|               7|              4|      1|                   179|                             51|          18| 38|              239.554|        97|                   0|        1|  0|             1|            0|  0|    89|   170|             31|                        2|\n",
      "|  7|                 7|               7|              5|      1|                   279|                              5|          14| 39|              239.554|        97|                   0|        1|  2|             1|            1|  0|    68|   168|             24|                        4|\n",
      "| 11|                23|               7|              5|      1|                   289|                             36|          13| 33|              239.554|        97|                   0|        1|  2|             1|            0|  1|    90|   172|             30|                        2|\n",
      "+---+------------------+----------------+---------------+-------+----------------------+-------------------------------+------------+---+---------------------+----------+--------------------+---------+---+--------------+-------------+---+------+------+---------------+-------------------------+\n",
      "only showing top 5 rows\n",
      "\n"
     ]
    }
   ],
   "source": [
    "absentee_spark_df = spark.createDataFrame(absentee_data_pd)\n",
    "absentee_spark_df.show(5)"
   ]
  },
  {
   "cell_type": "markdown",
   "id": "59201bb4-8d1b-4de9-8034-e03bc7c8d96b",
   "metadata": {},
   "source": [
    "#### Formatting Column Names  \n",
    "\n",
    "The original dataset contains variable names with spaces. To make things easier let's replace the spaces in any of the column names with `_` to prevent issues that might arise from the spaces being present in our names. First, we will simply create a list where we have replaced any space in a column name with an underscore. We will then use this list"
   ]
  },
  {
   "cell_type": "code",
   "execution_count": null,
   "id": "12a9d4bf-3110-41d5-a765-bfc377e9fb33",
   "metadata": {},
   "outputs": [],
   "source": []
  },
  {
   "cell_type": "code",
   "execution_count": 49,
   "id": "e9569651-6e13-46d5-ab3d-55859955e3a3",
   "metadata": {},
   "outputs": [
    {
     "name": "stdout",
     "output_type": "stream",
     "text": [
      "['ID', 'Reason_for_absence', 'Month_of_absence', 'Day_of_the_week', 'Seasons', 'Transportation_expense', 'Distance_from_Residence_to_Work', 'Service_time', 'Age', 'Work_load_Average/day', 'Hit_target', 'Disciplinary_failure', 'Education', 'Son', 'Social_drinker', 'Social_smoker', 'Pet', 'Weight', 'Height', 'Body_mass_index', 'Absenteeism_time_in_hours']\n"
     ]
    }
   ],
   "source": [
    "new_columns = list(map(lambda item : item.replace(\" \",\"_\"),absentee_spark_df.columns))\n",
    "print(new_columns)"
   ]
  },
  {
   "cell_type": "code",
   "execution_count": 58,
   "id": "04794b15-87f7-4ed9-b9c5-9f870976e89d",
   "metadata": {
    "tags": []
   },
   "outputs": [
    {
     "name": "stdout",
     "output_type": "stream",
     "text": [
      "root\n",
      " |-- ID: long (nullable = true)\n",
      " |-- Reason_for_absence: long (nullable = true)\n",
      " |-- Month_of_absence: long (nullable = true)\n",
      " |-- Day_of_the_week: long (nullable = true)\n",
      " |-- Seasons: long (nullable = true)\n",
      " |-- Transportation_expense: long (nullable = true)\n",
      " |-- Distance_from_Residence_to_Work: long (nullable = true)\n",
      " |-- Service_time: long (nullable = true)\n",
      " |-- Age: long (nullable = true)\n",
      " |-- Workload_per_day: double (nullable = true)\n",
      " |-- Hit_target: long (nullable = true)\n",
      " |-- Disciplinary_failure: long (nullable = true)\n",
      " |-- Education: long (nullable = true)\n",
      " |-- Son: long (nullable = true)\n",
      " |-- Social_drinker: long (nullable = true)\n",
      " |-- Social_smoker: long (nullable = true)\n",
      " |-- Pet: long (nullable = true)\n",
      " |-- Weight: long (nullable = true)\n",
      " |-- Height: long (nullable = true)\n",
      " |-- Body_mass_index: long (nullable = true)\n",
      " |-- Absenteeism_time_in_hours: long (nullable = true)\n",
      "\n"
     ]
    }
   ],
   "source": [
    "from functools import reduce\n",
    "\n",
    "absentee_data = reduce(lambda data, column_name: data.withColumnRenamed(absentee_spark_df.columns[column_name], new_columns[column_name]), range(len(absentee_spark_df.columns)), absentee_spark_df)\n",
    "absentee_data = absentee_data.withColumnRenamed(\"Work_load_Average/day\", \"Workload_per_day\")\n",
    "absentee_data.printSchema()"
   ]
  },
  {
   "cell_type": "code",
   "execution_count": 59,
   "id": "6098e4d1-5ca9-42de-8b57-aed7f2670106",
   "metadata": {},
   "outputs": [
    {
     "data": {
      "text/html": [
       "<div>\n",
       "<style scoped>\n",
       "    .dataframe tbody tr th:only-of-type {\n",
       "        vertical-align: middle;\n",
       "    }\n",
       "\n",
       "    .dataframe tbody tr th {\n",
       "        vertical-align: top;\n",
       "    }\n",
       "\n",
       "    .dataframe thead th {\n",
       "        text-align: right;\n",
       "    }\n",
       "</style>\n",
       "<table border=\"1\" class=\"dataframe\">\n",
       "  <thead>\n",
       "    <tr style=\"text-align: right;\">\n",
       "      <th></th>\n",
       "      <th>0</th>\n",
       "      <th>1</th>\n",
       "      <th>2</th>\n",
       "      <th>3</th>\n",
       "      <th>4</th>\n",
       "    </tr>\n",
       "  </thead>\n",
       "  <tbody>\n",
       "    <tr>\n",
       "      <th>summary</th>\n",
       "      <td>count</td>\n",
       "      <td>mean</td>\n",
       "      <td>stddev</td>\n",
       "      <td>min</td>\n",
       "      <td>max</td>\n",
       "    </tr>\n",
       "    <tr>\n",
       "      <th>ID</th>\n",
       "      <td>740</td>\n",
       "      <td>18.017567567567568</td>\n",
       "      <td>11.021247263063655</td>\n",
       "      <td>1</td>\n",
       "      <td>36</td>\n",
       "    </tr>\n",
       "    <tr>\n",
       "      <th>Reason_for_absence</th>\n",
       "      <td>740</td>\n",
       "      <td>19.216216216216218</td>\n",
       "      <td>8.433405882799654</td>\n",
       "      <td>0</td>\n",
       "      <td>28</td>\n",
       "    </tr>\n",
       "    <tr>\n",
       "      <th>Month_of_absence</th>\n",
       "      <td>740</td>\n",
       "      <td>6.324324324324325</td>\n",
       "      <td>3.4362869319125893</td>\n",
       "      <td>0</td>\n",
       "      <td>12</td>\n",
       "    </tr>\n",
       "    <tr>\n",
       "      <th>Day_of_the_week</th>\n",
       "      <td>740</td>\n",
       "      <td>3.9148648648648647</td>\n",
       "      <td>1.4216747097562803</td>\n",
       "      <td>2</td>\n",
       "      <td>6</td>\n",
       "    </tr>\n",
       "    <tr>\n",
       "      <th>Seasons</th>\n",
       "      <td>740</td>\n",
       "      <td>2.5445945945945945</td>\n",
       "      <td>1.111831060157382</td>\n",
       "      <td>1</td>\n",
       "      <td>4</td>\n",
       "    </tr>\n",
       "    <tr>\n",
       "      <th>Transportation_expense</th>\n",
       "      <td>740</td>\n",
       "      <td>221.32972972972973</td>\n",
       "      <td>66.95222324531973</td>\n",
       "      <td>118</td>\n",
       "      <td>388</td>\n",
       "    </tr>\n",
       "    <tr>\n",
       "      <th>Distance_from_Residence_to_Work</th>\n",
       "      <td>740</td>\n",
       "      <td>29.63108108108108</td>\n",
       "      <td>14.836788436739145</td>\n",
       "      <td>5</td>\n",
       "      <td>52</td>\n",
       "    </tr>\n",
       "    <tr>\n",
       "      <th>Service_time</th>\n",
       "      <td>740</td>\n",
       "      <td>12.554054054054054</td>\n",
       "      <td>4.384873407621149</td>\n",
       "      <td>1</td>\n",
       "      <td>29</td>\n",
       "    </tr>\n",
       "    <tr>\n",
       "      <th>Age</th>\n",
       "      <td>740</td>\n",
       "      <td>36.45</td>\n",
       "      <td>6.47877245761187</td>\n",
       "      <td>27</td>\n",
       "      <td>58</td>\n",
       "    </tr>\n",
       "    <tr>\n",
       "      <th>Workload_per_day</th>\n",
       "      <td>740</td>\n",
       "      <td>271.4902351351353</td>\n",
       "      <td>39.05811618814401</td>\n",
       "      <td>205.917</td>\n",
       "      <td>378.884</td>\n",
       "    </tr>\n",
       "    <tr>\n",
       "      <th>Hit_target</th>\n",
       "      <td>740</td>\n",
       "      <td>94.58783783783784</td>\n",
       "      <td>3.7793131344179947</td>\n",
       "      <td>81</td>\n",
       "      <td>100</td>\n",
       "    </tr>\n",
       "    <tr>\n",
       "      <th>Disciplinary_failure</th>\n",
       "      <td>740</td>\n",
       "      <td>0.05405405405405406</td>\n",
       "      <td>0.22627727323215055</td>\n",
       "      <td>0</td>\n",
       "      <td>1</td>\n",
       "    </tr>\n",
       "    <tr>\n",
       "      <th>Education</th>\n",
       "      <td>740</td>\n",
       "      <td>1.2918918918918918</td>\n",
       "      <td>0.6732380415251594</td>\n",
       "      <td>1</td>\n",
       "      <td>4</td>\n",
       "    </tr>\n",
       "    <tr>\n",
       "      <th>Son</th>\n",
       "      <td>740</td>\n",
       "      <td>1.018918918918919</td>\n",
       "      <td>1.0984890195302819</td>\n",
       "      <td>0</td>\n",
       "      <td>4</td>\n",
       "    </tr>\n",
       "    <tr>\n",
       "      <th>Social_drinker</th>\n",
       "      <td>740</td>\n",
       "      <td>0.5675675675675675</td>\n",
       "      <td>0.495748667200035</td>\n",
       "      <td>0</td>\n",
       "      <td>1</td>\n",
       "    </tr>\n",
       "    <tr>\n",
       "      <th>Social_smoker</th>\n",
       "      <td>740</td>\n",
       "      <td>0.07297297297297298</td>\n",
       "      <td>0.2602680502800184</td>\n",
       "      <td>0</td>\n",
       "      <td>1</td>\n",
       "    </tr>\n",
       "    <tr>\n",
       "      <th>Pet</th>\n",
       "      <td>740</td>\n",
       "      <td>0.745945945945946</td>\n",
       "      <td>1.3182582913258338</td>\n",
       "      <td>0</td>\n",
       "      <td>8</td>\n",
       "    </tr>\n",
       "    <tr>\n",
       "      <th>Weight</th>\n",
       "      <td>740</td>\n",
       "      <td>79.03513513513514</td>\n",
       "      <td>12.883210507177221</td>\n",
       "      <td>56</td>\n",
       "      <td>108</td>\n",
       "    </tr>\n",
       "    <tr>\n",
       "      <th>Height</th>\n",
       "      <td>740</td>\n",
       "      <td>172.11486486486487</td>\n",
       "      <td>6.03499453026766</td>\n",
       "      <td>163</td>\n",
       "      <td>196</td>\n",
       "    </tr>\n",
       "    <tr>\n",
       "      <th>Body_mass_index</th>\n",
       "      <td>740</td>\n",
       "      <td>26.677027027027027</td>\n",
       "      <td>4.285452223167275</td>\n",
       "      <td>19</td>\n",
       "      <td>38</td>\n",
       "    </tr>\n",
       "    <tr>\n",
       "      <th>Absenteeism_time_in_hours</th>\n",
       "      <td>740</td>\n",
       "      <td>6.924324324324324</td>\n",
       "      <td>13.330998100978201</td>\n",
       "      <td>0</td>\n",
       "      <td>120</td>\n",
       "    </tr>\n",
       "  </tbody>\n",
       "</table>\n",
       "</div>"
      ],
      "text/plain": [
       "                                     0                    1  \\\n",
       "summary                          count                 mean   \n",
       "ID                                 740   18.017567567567568   \n",
       "Reason_for_absence                 740   19.216216216216218   \n",
       "Month_of_absence                   740    6.324324324324325   \n",
       "Day_of_the_week                    740   3.9148648648648647   \n",
       "Seasons                            740   2.5445945945945945   \n",
       "Transportation_expense             740   221.32972972972973   \n",
       "Distance_from_Residence_to_Work    740    29.63108108108108   \n",
       "Service_time                       740   12.554054054054054   \n",
       "Age                                740                36.45   \n",
       "Workload_per_day                   740    271.4902351351353   \n",
       "Hit_target                         740    94.58783783783784   \n",
       "Disciplinary_failure               740  0.05405405405405406   \n",
       "Education                          740   1.2918918918918918   \n",
       "Son                                740    1.018918918918919   \n",
       "Social_drinker                     740   0.5675675675675675   \n",
       "Social_smoker                      740  0.07297297297297298   \n",
       "Pet                                740    0.745945945945946   \n",
       "Weight                             740    79.03513513513514   \n",
       "Height                             740   172.11486486486487   \n",
       "Body_mass_index                    740   26.677027027027027   \n",
       "Absenteeism_time_in_hours          740    6.924324324324324   \n",
       "\n",
       "                                                   2        3        4  \n",
       "summary                                       stddev      min      max  \n",
       "ID                                11.021247263063655        1       36  \n",
       "Reason_for_absence                 8.433405882799654        0       28  \n",
       "Month_of_absence                  3.4362869319125893        0       12  \n",
       "Day_of_the_week                   1.4216747097562803        2        6  \n",
       "Seasons                            1.111831060157382        1        4  \n",
       "Transportation_expense             66.95222324531973      118      388  \n",
       "Distance_from_Residence_to_Work   14.836788436739145        5       52  \n",
       "Service_time                       4.384873407621149        1       29  \n",
       "Age                                 6.47877245761187       27       58  \n",
       "Workload_per_day                   39.05811618814401  205.917  378.884  \n",
       "Hit_target                        3.7793131344179947       81      100  \n",
       "Disciplinary_failure             0.22627727323215055        0        1  \n",
       "Education                         0.6732380415251594        1        4  \n",
       "Son                               1.0984890195302819        0        4  \n",
       "Social_drinker                     0.495748667200035        0        1  \n",
       "Social_smoker                     0.2602680502800184        0        1  \n",
       "Pet                               1.3182582913258338        0        8  \n",
       "Weight                            12.883210507177221       56      108  \n",
       "Height                              6.03499453026766      163      196  \n",
       "Body_mass_index                    4.285452223167275       19       38  \n",
       "Absenteeism_time_in_hours         13.330998100978201        0      120  "
      ]
     },
     "execution_count": 59,
     "metadata": {},
     "output_type": "execute_result"
    }
   ],
   "source": [
    "absentee_data.describe().toPandas().transpose()"
   ]
  },
  {
   "cell_type": "markdown",
   "id": "cdbff617-1068-4aba-8662-9ed44abfb90e",
   "metadata": {},
   "source": [
    "# Splitting the Data, Metrics, and Models  "
   ]
  },
  {
   "cell_type": "markdown",
   "id": "8cdd7285-0763-426e-ac14-708d4fe73cf0",
   "metadata": {},
   "source": [
    "## Model Metrics"
   ]
  },
  {
   "cell_type": "markdown",
   "id": "17e813f4-88d5-4bcc-b034-18f3c581f153",
   "metadata": {},
   "source": [
    "## Splitting the Data into Training and Test Sets   \n",
    "\n",
    "The goal of creating our supervised models is to be able to successfully predict the number of absentee hours on new data, that is, on data that was not used to train our model. We want our model to be able to generalize to new data. In order to build a model that will be able to generalize we must be careful to not overfit our model to the data used to build it. If we build a model that is perfect at predicting our response variable based on data that was used to build the model, but largely fails to predict our response variable when new data is used to generate predictions, it is clear to see that our model will not be very useful. \n",
    "\n",
    "One common way to combat the problem of overfitting our model is to split the data into a training set and a test set. The exact split to use for a training vs test set can vary, but it is common to see an 80/20 or 70/30 training vs test set split. Once the data has been split into training and test sets we can use the training set to fit our model. Often we will want to use model metrics to evaluate the predictions produced by our model based on the observations contained in our training set that were used to fit that model.  \n",
    "\n",
    "Now, let's split our data into training and test sets.  We can do this by using the `.randomSplit()` method on our spark SQL data frame."
   ]
  },
  {
   "cell_type": "code",
   "execution_count": 107,
   "id": "7edbb19a-b50f-4199-a1ba-aa59329101bf",
   "metadata": {},
   "outputs": [
    {
     "name": "stdout",
     "output_type": "stream",
     "text": [
      "581 159\n"
     ]
    }
   ],
   "source": [
    "train, test = absentee_data.randomSplit([0.8,0.2], seed = 1234)\n",
    "print(train.count(), test.count())"
   ]
  },
  {
   "cell_type": "markdown",
   "id": "38435012-34cf-4587-a581-3af73053367c",
   "metadata": {},
   "source": [
    "## Models  \n",
    "\n",
    "Statistical learning is used for inference, prediction, classification, and pattern finding based on your data. A statistical learning model is a mathematical representation of some phenomenon on which data has been observed and collected. We will built 5 different classes of supervised statistical learning models to predict the value of our response variable, the number of absentee hours. In this section we will briefly discuss the concepts and ideas involved in each of our five classes of models. In the next section, [Model Fitting Using Spark MLlib](#Model-Fitting-Using-Spark-MLlib), we will build and fit our models on the training data set."
   ]
  },
  {
   "cell_type": "markdown",
   "id": "e9ad05bb-3f75-4db6-8ff2-04cb03ab4bb8",
   "metadata": {},
   "source": [
    "### Model 1  - Multiple Linear Regression  \n",
    "\n",
    "Resource for polynomial expansion:\n",
    "https://george-jen.gitbook.io/data-science-and-apache-spark/polynomialexpansion  \n",
    "\n"
   ]
  },
  {
   "cell_type": "markdown",
   "id": "6cd6fbba-6430-4ef2-a878-40e25696286e",
   "metadata": {},
   "source": [
    "### Model 2  - Regression Tree"
   ]
  },
  {
   "cell_type": "markdown",
   "id": "c171b7ca-10ce-47aa-afaa-465f09c18c34",
   "metadata": {},
   "source": [
    "### Model 3 - Random Forest "
   ]
  },
  {
   "cell_type": "markdown",
   "id": "c16adb44-2378-483c-a036-8aac6ae8eb7c",
   "metadata": {},
   "source": [
    "### Model 4  - Gradient Boosted Regression Tree   "
   ]
  },
  {
   "cell_type": "markdown",
   "id": "8fec3840-7113-478b-83a8-5fb121e1efbb",
   "metadata": {},
   "source": [
    "### Model 5 - k Nearest Neighbors Regression    "
   ]
  },
  {
   "cell_type": "markdown",
   "id": "4007df2b-c9ef-4fb1-ac1a-08cabfff0ab7",
   "metadata": {},
   "source": [
    "# Model Fitting Using Spark MLlib and `CrossValidation()`\n",
    "\n",
    "We will be using cross-validation for model selection and hyperparameter tuning.  \n",
    "\n",
    "First, let's import the required libraries and functions that we will need to build our models. These will be used in all models, additional libraries or functions that are needed for specific models will be imported as needed within each model section."
   ]
  },
  {
   "cell_type": "code",
   "execution_count": 18,
   "id": "e3784ec0-5f21-46a0-b430-dd2952f25fe9",
   "metadata": {},
   "outputs": [],
   "source": [
    "from pyspark.ml.feature import SQLTransformer, VectorAssembler, StandardScaler, OneHotEncoder\n",
    "from pyspark.sql.functions import *\n",
    "from pyspark.ml import Pipeline\n",
    "from pyspark.ml.tuning import CrossValidator, ParamGridBuilder\n",
    "from pyspark.ml.evaluation import RegressionEvaluator"
   ]
  },
  {
   "cell_type": "markdown",
   "id": "68891d8a-d119-4685-83ad-69fcf0ebd054",
   "metadata": {},
   "source": [
    "### Transformations and Preprocessing Using `MLlib` Functions  \n",
    "\n",
    "The transformations in this section will be used in one or more of our model pipelines."
   ]
  },
  {
   "cell_type": "markdown",
   "id": "aec8b746-2011-44bd-b144-423bc2462e6b",
   "metadata": {},
   "source": [
    "#### Selecting Variables for Modeling and Creating Label Column  \n",
    "\n",
    "The `sqlTransLabel` transformation uses `SQLTransformer()` to create the `label` column in our data set. We will also select only the variables that we want to include when building our models. We will drop the variables below from our dataset:\n",
    "\n",
    "-  `ID` - This is a personal identifier of each employee. As we are concerned with predicting the number of absentee hours for a given instance, `ID` will not be needed to build our model.  \n",
    "-  `Body_mass_index` - We will drop this variable as it is a function of height and weight, and is highly correlated with both.  \n",
    "-  `Month_of_absence` - We will drop this variable because it contains similar information to the `Seasons` variable, with many additional levels as compared to the `Seasons` variable.  "
   ]
  },
  {
   "cell_type": "code",
   "execution_count": 61,
   "id": "8f95241b-336e-4be2-8634-8e891b37f817",
   "metadata": {},
   "outputs": [],
   "source": [
    "sqlTransLabel = SQLTransformer(\n",
    "    statement = \"\"\"\n",
    "                SELECT Reason_for_absence, Day_of_the_week, Seasons, Transportation_expense, Distance_from_Residence_to_Work, Service_time, \\\n",
    "                Age, Workload_per_day, Hit_target, Disciplinary_failure, Education, Son, Social_drinker, Social_smoker, Pet, Weight, \\\n",
    "                Height, Absenteeism_time_in_hours AS label FROM __THIS__\n",
    "                \"\"\"\n",
    ")"
   ]
  },
  {
   "cell_type": "markdown",
   "id": "e2907d8c-acf3-455c-9271-b6260788c17f",
   "metadata": {},
   "source": [
    "Let's just do a quick check that this works as expected. We will use `.toPandas()` to display the data frame as a pandas dataframe. This will not change the `absentee_data` dataframe."
   ]
  },
  {
   "cell_type": "code",
   "execution_count": 97,
   "id": "7046c3af-30f7-4052-b366-4429d05f36e7",
   "metadata": {},
   "outputs": [
    {
     "name": "stdout",
     "output_type": "stream",
     "text": [
      "+------------------+---------------+-------+----------------------+-------------------------------+------------+---+----------------+----------+--------------------+---------+---+--------------+-------------+---+------+------+-----+\n",
      "|Reason_for_absence|Day_of_the_week|Seasons|Transportation_expense|Distance_from_Residence_to_Work|Service_time|Age|Workload_per_day|Hit_target|Disciplinary_failure|Education|Son|Social_drinker|Social_smoker|Pet|Weight|Height|label|\n",
      "+------------------+---------------+-------+----------------------+-------------------------------+------------+---+----------------+----------+--------------------+---------+---+--------------+-------------+---+------+------+-----+\n",
      "|                26|              3|      1|                   289|                             36|          13| 33|         239.554|        97|                   0|        1|  2|             1|            0|  1|    90|   172|    4|\n",
      "|                 0|              3|      1|                   118|                             13|          18| 50|         239.554|        97|                   1|        1|  1|             1|            0|  0|    98|   178|    0|\n",
      "|                23|              4|      1|                   179|                             51|          18| 38|         239.554|        97|                   0|        1|  0|             1|            0|  0|    89|   170|    2|\n",
      "|                 7|              5|      1|                   279|                              5|          14| 39|         239.554|        97|                   0|        1|  2|             1|            1|  0|    68|   168|    4|\n",
      "|                23|              5|      1|                   289|                             36|          13| 33|         239.554|        97|                   0|        1|  2|             1|            0|  1|    90|   172|    2|\n",
      "|                23|              6|      1|                   179|                             51|          18| 38|         239.554|        97|                   0|        1|  0|             1|            0|  0|    89|   170|    2|\n",
      "|                22|              6|      1|                   361|                             52|           3| 28|         239.554|        97|                   0|        1|  1|             1|            0|  4|    80|   172|    8|\n",
      "|                23|              6|      1|                   260|                             50|          11| 36|         239.554|        97|                   0|        1|  4|             1|            0|  0|    65|   168|    4|\n",
      "|                19|              2|      1|                   155|                             12|          14| 34|         239.554|        97|                   0|        1|  2|             1|            0|  0|    95|   196|   40|\n",
      "|                22|              2|      1|                   235|                             11|          14| 37|         239.554|        97|                   0|        3|  1|             0|            0|  1|    88|   172|    8|\n",
      "|                 1|              2|      1|                   260|                             50|          11| 36|         239.554|        97|                   0|        1|  4|             1|            0|  0|    65|   168|    8|\n",
      "|                 1|              3|      1|                   260|                             50|          11| 36|         239.554|        97|                   0|        1|  4|             1|            0|  0|    65|   168|    8|\n",
      "|                11|              4|      1|                   260|                             50|          11| 36|         239.554|        97|                   0|        1|  4|             1|            0|  0|    65|   168|    8|\n",
      "|                11|              4|      1|                   179|                             51|          18| 38|         239.554|        97|                   0|        1|  0|             1|            0|  0|    89|   170|    1|\n",
      "|                23|              4|      1|                   179|                             51|          18| 38|         239.554|        97|                   0|        1|  0|             1|            0|  0|    89|   170|    4|\n",
      "|                14|              6|      1|                   246|                             25|          16| 41|         239.554|        97|                   0|        1|  0|             1|            0|  0|    67|   170|    8|\n",
      "|                23|              6|      1|                   179|                             51|          18| 38|         239.554|        97|                   0|        1|  0|             1|            0|  0|    89|   170|    2|\n",
      "|                21|              2|      1|                   179|                             51|          18| 38|         239.554|        97|                   0|        1|  0|             1|            0|  0|    89|   170|    8|\n",
      "|                11|              5|      1|                   189|                             29|          13| 33|         239.554|        97|                   0|        1|  2|             0|            0|  2|    69|   167|    8|\n",
      "|                23|              4|      1|                   248|                             25|          14| 47|         205.917|        92|                   0|        1|  2|             0|            0|  1|    86|   165|    2|\n",
      "+------------------+---------------+-------+----------------------+-------------------------------+------------+---+----------------+----------+--------------------+---------+---+--------------+-------------+---+------+------+-----+\n",
      "only showing top 20 rows\n",
      "\n"
     ]
    }
   ],
   "source": [
    "sqlTransLabel.transform(absentee_data).show()"
   ]
  },
  {
   "cell_type": "markdown",
   "id": "cd3c46e6-3345-4191-94f0-a8d9fd52ab2d",
   "metadata": {},
   "source": [
    "#### Standardizing Numeric Variables  \n",
    "\n",
    "It is important that we standardize our numeric variables before building our models. Some of the predictor variables that we are using have different units and very different scales, such as `Transporation_expense` with a maximum value of `388` compared to `Son` (number of children) with a maximum value of `4`.  The variables the we will standardize are:  \n",
    "\n",
    "-  `Transportation_expense` - The standardized version will be called `Transportaion_expense_scaled`  \n",
    "-  `Distance_from_Residence_to_Work` The standardized version will be called `Distance_from_Residence_to_Work_scaled`  \n",
    "-  `Service_time` The standardized version will be called `Service_time_scaled`  \n",
    "-  `Age` The standardized version will be called `Age_scaled`  \n",
    "-  `Workload_per_day` The standardized version will be called `Workload_per_day_scaled`\n",
    "-  `Hit_target` The standardized version will be called `Hit_target_scaled`  \n",
    "-  `Son` The standardized version will be called `Son_scaled`  \n",
    "-  `Pet` The standardized version will be called `Pet_scaled`  \n",
    "-  `Weight` The standardized version will be called `Weight_scaled`  \n",
    "-  `Height` The standardized version will be called `Height_scaled`  \n",
    "\n",
    "*Note that we will add these to our data frame without removing the original variables*"
   ]
  },
  {
   "cell_type": "markdown",
   "id": "500c8c12-6b8c-4ac5-85fa-35ffabb0cbc1",
   "metadata": {},
   "source": [
    "https://www.analyticsvidhya.com/blog/2022/06/building-a-machine-learning-pipeline-using-pyspark/"
   ]
  },
  {
   "cell_type": "code",
   "execution_count": null,
   "id": "dcad7fba-9b82-4834-89b0-59589b2e53ab",
   "metadata": {
    "collapsed": true,
    "jupyter": {
     "outputs_hidden": true
    },
    "tags": []
   },
   "outputs": [
    {
     "data": {
      "text/plain": [
       "['ID',\n",
       " 'Reason_for_absence',\n",
       " 'Month_of_absence',\n",
       " 'Day_of_the_week',\n",
       " 'Seasons',\n",
       " 'Transportation_expense',\n",
       " 'Distance_from_Residence_to_Work',\n",
       " 'Service_time',\n",
       " 'Age',\n",
       " 'Workload_per_day',\n",
       " 'Hit_target',\n",
       " 'Disciplinary_failure',\n",
       " 'Education',\n",
       " 'Son',\n",
       " 'Social_drinker',\n",
       " 'Social_smoker',\n",
       " 'Pet',\n",
       " 'Weight',\n",
       " 'Height',\n",
       " 'Body_mass_index',\n",
       " 'Absenteeism_time_in_hours',\n",
       " 'Transportation_expense_vec',\n",
       " 'Distance_from_Residence_to_Work_vec',\n",
       " 'Service_time_vec',\n",
       " 'Age_vec',\n",
       " 'Workload_per_day_vec',\n",
       " 'Hit_target_vec',\n",
       " 'Son_vec',\n",
       " 'Pet_vec',\n",
       " 'Weight_vec',\n",
       " 'Height_vec',\n",
       " 'Transportation_expense_scaled',\n",
       " 'Distance_from_Residence_to_Work_scaled',\n",
       " 'Service_time_scaled',\n",
       " 'Age_scaled',\n",
       " 'Workload_per_day_scaled',\n",
       " 'Hit_target_scaled',\n",
       " 'Son_scaled',\n",
       " 'Pet_scaled',\n",
       " 'Weight_scaled',\n",
       " 'Height_scaled']"
      ]
     },
     "execution_count": 104,
     "metadata": {},
     "output_type": "execute_result"
    }
   ],
   "source": [
    "# Creating a list of numeric column names that we want to scale\n",
    "numeric_cols = ['Transportation_expense', 'Distance_from_Residence_to_Work', 'Service_time', 'Age', 'Workload_per_day', \\\n",
    "                                    'Hit_target', 'Son', 'Pet', 'Weight', 'Height']\n",
    "assembler = [VectorAssembler(inputCols=[col], outputCol=col+'_vec') for col in numeric_cols]\n",
    "scale = [StandardScaler(inputCol=col+'_vec', outputCol=col+'_scaled', withMean=True, withStd=True) for col in numeric_cols]\n",
    "scale_pipe = Pipeline(stages = assembler + scale)\n",
    "df_scale = scale_pipe.fit(absentee_data)\n",
    "df_scale.transform(absentee_data).columns"
   ]
  },
  {
   "cell_type": "markdown",
   "id": "186aecd1-66e4-44f8-aee9-c7b4112c9fcd",
   "metadata": {},
   "source": [
    "#### Creating Dummy Variables for Categorical Variables in the Dataset  \n",
    "\n",
    "Before we build our models we want to create dummy variables for the non-binary categorical variables in our dataset. We will use `OneHotEncoder()` from `MLlib` to create these dummy variables for us. We will create dummy variables for:  \n",
    "-  `Reason_for_absence` - The encoded reason for absence variable will be called `Reason_onehot`    \n",
    "-  `Day_of_the_week` - The encoded day of the week variable will be called `Day_onehot`  \n",
    "-  `Seasons` - The encoded seasons variable will be called `Season_onehot`  \n",
    "\n",
    "*Note that we will add these to our data frame without removing the original variables*"
   ]
  },
  {
   "cell_type": "code",
   "execution_count": 119,
   "id": "de1a9c92-a40a-4a3b-9edd-f90d52ec77c0",
   "metadata": {
    "tags": []
   },
   "outputs": [
    {
     "name": "stdout",
     "output_type": "stream",
     "text": [
      "+---+------------------+----------------+---------------+-------+----------------------+-------------------------------+------------+---+----------------+----------+--------------------+---------+---+--------------+-------------+---+------+------+---------------+-------------------------+---------------+-------------+-------------+\n",
      "| ID|Reason_for_absence|Month_of_absence|Day_of_the_week|Seasons|Transportation_expense|Distance_from_Residence_to_Work|Service_time|Age|Workload_per_day|Hit_target|Disciplinary_failure|Education|Son|Social_drinker|Social_smoker|Pet|Weight|Height|Body_mass_index|Absenteeism_time_in_hours|  Reason_onehot|   Day_onehot|Season_onehot|\n",
      "+---+------------------+----------------+---------------+-------+----------------------+-------------------------------+------------+---+----------------+----------+--------------------+---------+---+--------------+-------------+---+------+------+---------------+-------------------------+---------------+-------------+-------------+\n",
      "| 11|                26|               7|              3|      1|                   289|                             36|          13| 33|         239.554|        97|                   0|        1|  2|             1|            0|  1|    90|   172|             30|                        4|(28,[26],[1.0])|(6,[3],[1.0])|(4,[1],[1.0])|\n",
      "| 36|                 0|               7|              3|      1|                   118|                             13|          18| 50|         239.554|        97|                   1|        1|  1|             1|            0|  0|    98|   178|             31|                        0| (28,[0],[1.0])|(6,[3],[1.0])|(4,[1],[1.0])|\n",
      "|  3|                23|               7|              4|      1|                   179|                             51|          18| 38|         239.554|        97|                   0|        1|  0|             1|            0|  0|    89|   170|             31|                        2|(28,[23],[1.0])|(6,[4],[1.0])|(4,[1],[1.0])|\n",
      "|  7|                 7|               7|              5|      1|                   279|                              5|          14| 39|         239.554|        97|                   0|        1|  2|             1|            1|  0|    68|   168|             24|                        4| (28,[7],[1.0])|(6,[5],[1.0])|(4,[1],[1.0])|\n",
      "| 11|                23|               7|              5|      1|                   289|                             36|          13| 33|         239.554|        97|                   0|        1|  2|             1|            0|  1|    90|   172|             30|                        2|(28,[23],[1.0])|(6,[5],[1.0])|(4,[1],[1.0])|\n",
      "|  3|                23|               7|              6|      1|                   179|                             51|          18| 38|         239.554|        97|                   0|        1|  0|             1|            0|  0|    89|   170|             31|                        2|(28,[23],[1.0])|    (6,[],[])|(4,[1],[1.0])|\n",
      "| 10|                22|               7|              6|      1|                   361|                             52|           3| 28|         239.554|        97|                   0|        1|  1|             1|            0|  4|    80|   172|             27|                        8|(28,[22],[1.0])|    (6,[],[])|(4,[1],[1.0])|\n",
      "| 20|                23|               7|              6|      1|                   260|                             50|          11| 36|         239.554|        97|                   0|        1|  4|             1|            0|  0|    65|   168|             23|                        4|(28,[23],[1.0])|    (6,[],[])|(4,[1],[1.0])|\n",
      "| 14|                19|               7|              2|      1|                   155|                             12|          14| 34|         239.554|        97|                   0|        1|  2|             1|            0|  0|    95|   196|             25|                       40|(28,[19],[1.0])|(6,[2],[1.0])|(4,[1],[1.0])|\n",
      "|  1|                22|               7|              2|      1|                   235|                             11|          14| 37|         239.554|        97|                   0|        3|  1|             0|            0|  1|    88|   172|             29|                        8|(28,[22],[1.0])|(6,[2],[1.0])|(4,[1],[1.0])|\n",
      "| 20|                 1|               7|              2|      1|                   260|                             50|          11| 36|         239.554|        97|                   0|        1|  4|             1|            0|  0|    65|   168|             23|                        8| (28,[1],[1.0])|(6,[2],[1.0])|(4,[1],[1.0])|\n",
      "| 20|                 1|               7|              3|      1|                   260|                             50|          11| 36|         239.554|        97|                   0|        1|  4|             1|            0|  0|    65|   168|             23|                        8| (28,[1],[1.0])|(6,[3],[1.0])|(4,[1],[1.0])|\n",
      "| 20|                11|               7|              4|      1|                   260|                             50|          11| 36|         239.554|        97|                   0|        1|  4|             1|            0|  0|    65|   168|             23|                        8|(28,[11],[1.0])|(6,[4],[1.0])|(4,[1],[1.0])|\n",
      "|  3|                11|               7|              4|      1|                   179|                             51|          18| 38|         239.554|        97|                   0|        1|  0|             1|            0|  0|    89|   170|             31|                        1|(28,[11],[1.0])|(6,[4],[1.0])|(4,[1],[1.0])|\n",
      "|  3|                23|               7|              4|      1|                   179|                             51|          18| 38|         239.554|        97|                   0|        1|  0|             1|            0|  0|    89|   170|             31|                        4|(28,[23],[1.0])|(6,[4],[1.0])|(4,[1],[1.0])|\n",
      "| 24|                14|               7|              6|      1|                   246|                             25|          16| 41|         239.554|        97|                   0|        1|  0|             1|            0|  0|    67|   170|             23|                        8|(28,[14],[1.0])|    (6,[],[])|(4,[1],[1.0])|\n",
      "|  3|                23|               7|              6|      1|                   179|                             51|          18| 38|         239.554|        97|                   0|        1|  0|             1|            0|  0|    89|   170|             31|                        2|(28,[23],[1.0])|    (6,[],[])|(4,[1],[1.0])|\n",
      "|  3|                21|               7|              2|      1|                   179|                             51|          18| 38|         239.554|        97|                   0|        1|  0|             1|            0|  0|    89|   170|             31|                        8|(28,[21],[1.0])|(6,[2],[1.0])|(4,[1],[1.0])|\n",
      "|  6|                11|               7|              5|      1|                   189|                             29|          13| 33|         239.554|        97|                   0|        1|  2|             0|            0|  2|    69|   167|             25|                        8|(28,[11],[1.0])|(6,[5],[1.0])|(4,[1],[1.0])|\n",
      "| 33|                23|               8|              4|      1|                   248|                             25|          14| 47|         205.917|        92|                   0|        1|  2|             0|            0|  1|    86|   165|             32|                        2|(28,[23],[1.0])|(6,[4],[1.0])|(4,[1],[1.0])|\n",
      "+---+------------------+----------------+---------------+-------+----------------------+-------------------------------+------------+---+----------------+----------+--------------------+---------+---+--------------+-------------+---+------+------+---------------+-------------------------+---------------+-------------+-------------+\n",
      "only showing top 20 rows\n",
      "\n"
     ]
    }
   ],
   "source": [
    "# Create our encoder instance and save as onehot_encoder\n",
    "onehot_encoder = OneHotEncoder(inputCols=['Reason_for_absence', 'Day_of_the_week', 'Seasons'],\n",
    "                               outputCols=['Reason_onehot', 'Day_onehot', 'Season_onehot'])\n",
    "\n",
    "# Fit our encoder instance on our data frame and save it as encoder_model\n",
    "encoder_model = onehot_encoder.fit(absentee_data)\n",
    "\n",
    "# Test encoder_model by transforming our absentee_data and save as encoded\n",
    "encoded = encoder_model.transform(absentee_data)\n",
    "\n",
    "# Check that everything looks as expected using the action .show()\n",
    "encoded.show()"
   ]
  },
  {
   "cell_type": "markdown",
   "id": "be06d2af-fd94-4cc4-82cf-102c783c7dec",
   "metadata": {},
   "source": [
    "#### Vector Assemblers  \n",
    "\n",
    "The `vectorAssembler` will create a features vector containing all predictor variables that we want to use in our models from our dataset. We need to pass these as a list. To easiliy grab the columns we want we can use the `.columns` attribute on our spark SQL data frames to return a list of column names. We can then copy and paste the variables we want to include in our `features` column. We will include the variables:  \n",
    "\n",
    "`Transportation_expense_scaled`, `Distance_from_Residence_to_Work_scaled`, `Service_time_scaled`, `Age_scaled`, `Workload_per_day_scaled`, `Hit_target_scaled`, `Son_scaled`, `Pet_scaled`, `Weight_scaled`, `Height_scaled`, `Reason_onehot`, `Day_onehot`, `Season_onehot`, `Disciplinary_failure`, `Education`, `Social_drinker`, and`Social_smoker`.\n",
    "\n",
    "*Note that all models will be built with these variables as the `features` in the model*"
   ]
  },
  {
   "cell_type": "code",
   "execution_count": 89,
   "id": "f7db2d5f-a6b6-42a5-99ec-d9f04b4e7405",
   "metadata": {},
   "outputs": [
    {
     "name": "stdout",
     "output_type": "stream",
     "text": [
      "['ID', 'Reason_for_absence', 'Month_of_absence', 'Day_of_the_week', 'Seasons', 'Transportation_expense', 'Distance_from_Residence_to_Work', 'Service_time', 'Age', 'Workload_per_day', 'Hit_target', 'Disciplinary_failure', 'Education', 'Son', 'Social_drinker', 'Social_smoker', 'Pet', 'Weight', 'Height', 'Body_mass_index', 'Absenteeism_time_in_hours', 'Transportation_expense_vec', 'Distance_from_Residence_to_Work_vec', 'Service_time_vec', 'Age_vec', 'Workload_per_day_vec', 'Hit_target_vec', 'Son_vec', 'Pet_vec', 'Weight_vec', 'Height_vec', 'Transportation_expense_scaled', 'Distance_from_Residence_to_Work_scaled', 'Service_time_scaled', 'Age_scaled', 'Workload_per_day_scaled', 'Hit_target_scaled', 'Son_scaled', 'Pet_scaled', 'Weight_scaled', 'Height_scaled']\n"
     ]
    }
   ],
   "source": [
    "print(df_scale.columns)"
   ]
  },
  {
   "cell_type": "code",
   "execution_count": 90,
   "id": "3512365b-c9f5-4f75-a2fb-1a3ec42506e9",
   "metadata": {},
   "outputs": [
    {
     "name": "stdout",
     "output_type": "stream",
     "text": [
      "['ID', 'Reason_for_absence', 'Month_of_absence', 'Day_of_the_week', 'Seasons', 'Transportation_expense', 'Distance_from_Residence_to_Work', 'Service_time', 'Age', 'Workload_per_day', 'Hit_target', 'Disciplinary_failure', 'Education', 'Son', 'Social_drinker', 'Social_smoker', 'Pet', 'Weight', 'Height', 'Body_mass_index', 'Absenteeism_time_in_hours', 'Reason_onehot', 'Day_onehot', 'Season_onehot']\n"
     ]
    }
   ],
   "source": [
    "print(encoded.columns)"
   ]
  },
  {
   "cell_type": "code",
   "execution_count": 91,
   "id": "af303518-9b1f-4fac-953d-2f309d45f706",
   "metadata": {},
   "outputs": [],
   "source": [
    "features_Assembler = VectorAssembler(inputCols = ['Transportation_expense_scaled', 'Distance_from_Residence_to_Work_scaled', 'Service_time_scaled', \\\n",
    "                                                        'Age_scaled', 'Workload_per_day_scaled', 'Hit_target_scaled', 'Son_scaled', 'Pet_scaled', \\\n",
    "                                                        'Weight_scaled', 'Height_scaled', 'Reason_onehot', 'Day_onehot', 'Season_onehot',  \\\n",
    "                                                        'Disciplinary_failure', 'Education', 'Social_drinker', 'Social_smoker'], \n",
    "                                  outputCol = 'features')"
   ]
  },
  {
   "cell_type": "code",
   "execution_count": 92,
   "id": "e0f1f5c2-813b-4ec2-8dbb-d3b83d55e2c8",
   "metadata": {
    "tags": []
   },
   "outputs": [
    {
     "name": "stdout",
     "output_type": "stream",
     "text": [
      "+---+------------------+----------------+---------------+-------+----------------------+-------------------------------+------------+---+----------------+----------+--------------------+---------+---+--------------+-------------+---+------+------+---------------+-------------------------+--------------------+\n",
      "| ID|Reason_for_absence|Month_of_absence|Day_of_the_week|Seasons|Transportation_expense|Distance_from_Residence_to_Work|Service_time|Age|Workload_per_day|Hit_target|Disciplinary_failure|Education|Son|Social_drinker|Social_smoker|Pet|Weight|Height|Body_mass_index|Absenteeism_time_in_hours|            features|\n",
      "+---+------------------+----------------+---------------+-------+----------------------+-------------------------------+------------+---+----------------+----------+--------------------+---------+---+--------------+-------------+---+------+------+---------------+-------------------------+--------------------+\n",
      "| 11|                26|               7|              3|      1|                   289|                             36|          13| 33|         239.554|        97|                   0|        1|  2|             1|            0|  1|    90|   172|             30|                        4|[11.0,26.0,7.0,3....|\n",
      "| 36|                 0|               7|              3|      1|                   118|                             13|          18| 50|         239.554|        97|                   1|        1|  1|             1|            0|  0|    98|   178|             31|                        0|[36.0,0.0,7.0,3.0...|\n",
      "|  3|                23|               7|              4|      1|                   179|                             51|          18| 38|         239.554|        97|                   0|        1|  0|             1|            0|  0|    89|   170|             31|                        2|[3.0,23.0,7.0,4.0...|\n",
      "|  7|                 7|               7|              5|      1|                   279|                              5|          14| 39|         239.554|        97|                   0|        1|  2|             1|            1|  0|    68|   168|             24|                        4|[7.0,7.0,7.0,5.0,...|\n",
      "| 11|                23|               7|              5|      1|                   289|                             36|          13| 33|         239.554|        97|                   0|        1|  2|             1|            0|  1|    90|   172|             30|                        2|[11.0,23.0,7.0,5....|\n",
      "|  3|                23|               7|              6|      1|                   179|                             51|          18| 38|         239.554|        97|                   0|        1|  0|             1|            0|  0|    89|   170|             31|                        2|[3.0,23.0,7.0,6.0...|\n",
      "| 10|                22|               7|              6|      1|                   361|                             52|           3| 28|         239.554|        97|                   0|        1|  1|             1|            0|  4|    80|   172|             27|                        8|[10.0,22.0,7.0,6....|\n",
      "| 20|                23|               7|              6|      1|                   260|                             50|          11| 36|         239.554|        97|                   0|        1|  4|             1|            0|  0|    65|   168|             23|                        4|[20.0,23.0,7.0,6....|\n",
      "| 14|                19|               7|              2|      1|                   155|                             12|          14| 34|         239.554|        97|                   0|        1|  2|             1|            0|  0|    95|   196|             25|                       40|[14.0,19.0,7.0,2....|\n",
      "|  1|                22|               7|              2|      1|                   235|                             11|          14| 37|         239.554|        97|                   0|        3|  1|             0|            0|  1|    88|   172|             29|                        8|[1.0,22.0,7.0,2.0...|\n",
      "| 20|                 1|               7|              2|      1|                   260|                             50|          11| 36|         239.554|        97|                   0|        1|  4|             1|            0|  0|    65|   168|             23|                        8|[20.0,1.0,7.0,2.0...|\n",
      "| 20|                 1|               7|              3|      1|                   260|                             50|          11| 36|         239.554|        97|                   0|        1|  4|             1|            0|  0|    65|   168|             23|                        8|[20.0,1.0,7.0,3.0...|\n",
      "| 20|                11|               7|              4|      1|                   260|                             50|          11| 36|         239.554|        97|                   0|        1|  4|             1|            0|  0|    65|   168|             23|                        8|[20.0,11.0,7.0,4....|\n",
      "|  3|                11|               7|              4|      1|                   179|                             51|          18| 38|         239.554|        97|                   0|        1|  0|             1|            0|  0|    89|   170|             31|                        1|[3.0,11.0,7.0,4.0...|\n",
      "|  3|                23|               7|              4|      1|                   179|                             51|          18| 38|         239.554|        97|                   0|        1|  0|             1|            0|  0|    89|   170|             31|                        4|[3.0,23.0,7.0,4.0...|\n",
      "| 24|                14|               7|              6|      1|                   246|                             25|          16| 41|         239.554|        97|                   0|        1|  0|             1|            0|  0|    67|   170|             23|                        8|[24.0,14.0,7.0,6....|\n",
      "|  3|                23|               7|              6|      1|                   179|                             51|          18| 38|         239.554|        97|                   0|        1|  0|             1|            0|  0|    89|   170|             31|                        2|[3.0,23.0,7.0,6.0...|\n",
      "|  3|                21|               7|              2|      1|                   179|                             51|          18| 38|         239.554|        97|                   0|        1|  0|             1|            0|  0|    89|   170|             31|                        8|[3.0,21.0,7.0,2.0...|\n",
      "|  6|                11|               7|              5|      1|                   189|                             29|          13| 33|         239.554|        97|                   0|        1|  2|             0|            0|  2|    69|   167|             25|                        8|[6.0,11.0,7.0,5.0...|\n",
      "| 33|                23|               8|              4|      1|                   248|                             25|          14| 47|         205.917|        92|                   0|        1|  2|             0|            0|  1|    86|   165|             32|                        2|[33.0,23.0,8.0,4....|\n",
      "+---+------------------+----------------+---------------+-------+----------------------+-------------------------------+------------+---+----------------+----------+--------------------+---------+---+--------------+-------------+---+------+------+---------------+-------------------------+--------------------+\n",
      "only showing top 20 rows\n",
      "\n"
     ]
    }
   ],
   "source": [
    "#create a feature array by omitting the last column\n",
    "feature_cols = absentee_data.columns[:-1]\n",
    "vect_assembler = VectorAssembler(inputCols = feature_cols, outputCol=\"features\")\n",
    "#Utilize Assembler created above in order to add the feature column\n",
    "data_w_features = vect_assembler.transform(absentee_data)\n",
    "data_w_features.show()"
   ]
  },
  {
   "cell_type": "code",
   "execution_count": 130,
   "id": "d5491be3-e244-437a-b111-87fa876d3b28",
   "metadata": {},
   "outputs": [],
   "source": [
    "test_pipeline = Pipeline(stages = [sqlTransLabel, df_scale, encoder_model, features_Assembler, mlr_regressor])"
   ]
  },
  {
   "cell_type": "code",
   "execution_count": 133,
   "id": "e9c6a056-4a8b-4797-9834-fb5ec574b354",
   "metadata": {},
   "outputs": [],
   "source": [
    "# Creating mlr crossvalidator\n",
    "mlr_crossval = CrossValidator(estimator = test_pipeline,\n",
    "                              estimatorParamMaps = mlr_paramGrid,\n",
    "                              evaluator = RegressionEvaluator(metricName='rmse'),\n",
    "                              numFolds=5,\n",
    "                              seed = 1234)"
   ]
  },
  {
   "cell_type": "code",
   "execution_count": 134,
   "id": "0f082064-882d-4368-ad14-73cdd9461ed7",
   "metadata": {},
   "outputs": [],
   "source": [
    "# Fitting model using the mlr cross validator that we created\n",
    "test_model = mlr_crossval.fit(train)"
   ]
  },
  {
   "cell_type": "code",
   "execution_count": 136,
   "id": "35c2a3dd-91b7-4971-a07e-887428e8cba8",
   "metadata": {},
   "outputs": [
    {
     "name": "stdout",
     "output_type": "stream",
     "text": [
      "Best MLR Training RMSE: 11.923348668556022\n",
      "Best MLR Training MAE: 0.23027661261260257\n"
     ]
    },
    {
     "data": {
      "text/plain": [
       "'regParam: regularization parameter (>= 0). (default: 0.0, current: 10.0)'"
      ]
     },
     "execution_count": 136,
     "metadata": {},
     "output_type": "execute_result"
    }
   ],
   "source": [
    "# Test model stats\n",
    "best_mlr_Pipeline = test_model.bestModel\n",
    "best_mlr_Model = best_mlr_Pipeline.stages[4]\n",
    "print(f\"Best MLR Training RMSE: {best_mlr_Model.summary.rootMeanSquaredError}\")\n",
    "print(f\"Best MLR Training MAE: {best_mlr_Model.summary.r2}\")\n",
    "best_mlr_Model.explainParam('elasticNetParam')\n",
    "best_mlr_Model.explainParam('regParam')"
   ]
  },
  {
   "cell_type": "code",
   "execution_count": 122,
   "id": "0b2444e4-d47f-465d-a7a8-c1125c4bbed2",
   "metadata": {},
   "outputs": [],
   "source": [
    "test1 = test_pipeline.fit(absentee_data)"
   ]
  },
  {
   "cell_type": "markdown",
   "id": "d58b95eb-23ee-413d-9c95-e362ecab7af3",
   "metadata": {},
   "source": [
    "### Model 1  - Multiple Linear Regression  \n",
    "\n",
    "We will use `LinearRegression` from `pyspark.ml.regression` for our MLR model. The parameters available allow for various types of regularization, including none (ordinary least squares), Ridge Regression, Lasso, and Elastic Net. The `regParam` represents the $\\lambda$ in the penalty part of the loss function (`elasticNetParam` range of 0 to 1). The series of transformations that we will use in our MLR pipeline are:  \n",
    "\n",
    "1. `sqlTransLabel` - To select the columns of interest from our original data frame and to create our `label` column for our target variable, `Absenteeism_time_in_hours`.  \n",
    "2.  `df_scale` - To standardize our numeric columns.  \n",
    "3.  `encoder_model` To create one hot encoded versions of our categorical variables.  \n",
    "4.  `features_Assembler` To put all of our desired predictor variables into our `features` vector.  \n",
    "5.  `mlr_regressor` To create our "
   ]
  },
  {
   "cell_type": "code",
   "execution_count": 128,
   "id": "1b583a7b-29ea-4626-bb22-933ec6793dd3",
   "metadata": {},
   "outputs": [],
   "source": [
    "# Importing LinearRegression\n",
    "from pyspark.ml.regression import LinearRegression"
   ]
  },
  {
   "cell_type": "code",
   "execution_count": 129,
   "id": "bf0b71da-a9b8-49a6-bede-2f2e8afda0b9",
   "metadata": {},
   "outputs": [],
   "source": [
    "# Creating mlr regressor instance for pipeline\n",
    "mlr_regressor = LinearRegression(featuresCol = 'features', labelCol='label')"
   ]
  },
  {
   "cell_type": "code",
   "execution_count": 327,
   "id": "39b4be7c-e4a3-4aa0-96b1-9db467a17f6c",
   "metadata": {},
   "outputs": [],
   "source": [
    "# Creating mlr pipeline using all_vars_vectorAssembler and mlr_regressor\n",
    "mlr_pipeline = Pipeline(stages = [sqlTransLabel, all_vars_vectorAssembler, mlr_regressor])"
   ]
  },
  {
   "cell_type": "code",
   "execution_count": 132,
   "id": "cf2b6d32-1ec9-4e45-aba0-43516839e4e1",
   "metadata": {},
   "outputs": [],
   "source": [
    "# Creating mlr param grid for cross validation\n",
    "mlr_paramGrid = ParamGridBuilder() \\\n",
    "    .addGrid(mlr_regressor.regParam, [0, 0.01, 0.1, 1.0, 10.0]) \\\n",
    "    .addGrid(mlr_regressor.elasticNetParam, [0.0, 0.2, 0.5, 0.7, 1.0]) \\\n",
    "    .build()"
   ]
  },
  {
   "cell_type": "code",
   "execution_count": 416,
   "id": "e0f2138a-1a29-455a-956a-59fc7a7a43ea",
   "metadata": {},
   "outputs": [],
   "source": [
    "# Creating mlr crossvalidator\n",
    "mlr_crossval = CrossValidator(estimator = mlr_pipeline,\n",
    "                              estimatorParamMaps = mlr_paramGrid,\n",
    "                              evaluator = RegressionEvaluator(metricName='rmse'),\n",
    "                              numFolds=5,\n",
    "                              seed = 1234)"
   ]
  },
  {
   "cell_type": "code",
   "execution_count": 417,
   "id": "56cd5b9c-4be6-4362-8604-d23a9e733b90",
   "metadata": {},
   "outputs": [],
   "source": [
    "# Fitting model using the mlr cross validator that we created\n",
    "mlr_cv_model = mlr_crossval.fit(train)"
   ]
  },
  {
   "cell_type": "code",
   "execution_count": 425,
   "id": "389432a0-e2ae-4cad-b73f-c4ae994f6277",
   "metadata": {},
   "outputs": [
    {
     "name": "stdout",
     "output_type": "stream",
     "text": [
      "Best MLR Training RMSE: 12.655816108446869\n",
      "Best MLR Training MAE: 0.13280152383129307\n"
     ]
    },
    {
     "data": {
      "text/plain": [
       "'regParam: regularization parameter (>= 0). (default: 0.0, current: 1.0)'"
      ]
     },
     "execution_count": 425,
     "metadata": {},
     "output_type": "execute_result"
    }
   ],
   "source": [
    "# MLR model stats\n",
    "best_mlr_Pipeline = mlr_cv_model.bestModel\n",
    "best_mlr_Model = best_mlr_Pipeline.stages[2]\n",
    "print(f\"Best MLR Training RMSE: {best_mlr_Model.summary.rootMeanSquaredError}\")\n",
    "print(f\"Best MLR Training MAE: {best_mlr_Model.summary.r2}\")\n",
    "best_mlr_Model.explainParam('elasticNetParam')\n",
    "best_mlr_Model.explainParam('regParam')"
   ]
  },
  {
   "cell_type": "code",
   "execution_count": 378,
   "id": "95766f2c-1e1f-496a-a7c6-5f419043cba8",
   "metadata": {},
   "outputs": [
    {
     "name": "stdout",
     "output_type": "stream",
     "text": [
      "Coefficients: [-0.07125156047196182,-0.5541221998856326,0.06102195611966274,-0.8437874336123358,0.17254097777620764,-0.00030054710621305535,-0.053043221315073226,-0.24084410752599872,0.15175544796452073,-0.007530948581189216,0.12253665980483247,-19.229368832219173,-2.0514413891028282,1.3310642556278778,1.9576518406815737,-1.0333649773588847,-0.7906382321330249,0.8019419864782453,-0.5337395366881208,-2.536688671315052]\n",
      "Intercept: 109.21283243256491\n"
     ]
    }
   ],
   "source": [
    "lr_features = all_vars_vectorAssembler.transform(train)\n",
    "lr = LinearRegression(featuresCol = 'features', labelCol='Absenteeism_time_in_hours')\n",
    "lr_model = lr.fit(lr_features)\n",
    "print(\"Coefficients: \" + str(lr_model.coefficients))\n",
    "print(\"Intercept: \" + str(lr_model.intercept))"
   ]
  },
  {
   "cell_type": "code",
   "execution_count": 63,
   "id": "1b62aba7-bf0b-44a7-8850-9f856ddd6e65",
   "metadata": {},
   "outputs": [
    {
     "name": "stdout",
     "output_type": "stream",
     "text": [
      "+-------------------+\n",
      "|          residuals|\n",
      "+-------------------+\n",
      "| 0.8761456246751607|\n",
      "| 3.2691650348456562|\n",
      "|  5.800527335682659|\n",
      "|  -9.78875370172048|\n",
      "|-11.177985743466124|\n",
      "+-------------------+\n",
      "only showing top 5 rows\n",
      "\n",
      "RMSE: 12.454308\n",
      "r2: 0.160197\n"
     ]
    }
   ],
   "source": [
    "trainingSummary = lr_model.summary\n",
    "trainingSummary.residuals.show(5)\n",
    "print(\"RMSE: %f\" % trainingSummary.rootMeanSquaredError)\n",
    "print(\"r2: %f\" % trainingSummary.r2)"
   ]
  },
  {
   "cell_type": "markdown",
   "id": "cb762919-2d8e-44fa-85fa-7f362dfed8d8",
   "metadata": {},
   "source": [
    "Model 1 Predictions"
   ]
  },
  {
   "cell_type": "code",
   "execution_count": 65,
   "id": "697baf35-5a46-4e3b-a750-b4214b712444",
   "metadata": {},
   "outputs": [],
   "source": [
    "lr_test = vectorAssembler.transform(test)"
   ]
  },
  {
   "cell_type": "code",
   "execution_count": 67,
   "id": "e8e5b8d9-37c9-4f20-a05f-15909ee0f1bb",
   "metadata": {},
   "outputs": [],
   "source": [
    "preds = lr_model.transform(lr_test)"
   ]
  },
  {
   "cell_type": "code",
   "execution_count": 325,
   "id": "c0b9b962-7d6c-4f75-8065-1bcd5ace346f",
   "metadata": {},
   "outputs": [],
   "source": [
    "from pyspark.ml.feature import PolynomialExpansion"
   ]
  },
  {
   "cell_type": "markdown",
   "id": "0db7dd16-76a0-4b7a-854f-812dc7ec4985",
   "metadata": {},
   "source": [
    "### Model 2  - Regression Tree"
   ]
  },
  {
   "cell_type": "code",
   "execution_count": 15,
   "id": "2283a30b-99a7-4ed5-b28a-0c9ba09ab98c",
   "metadata": {},
   "outputs": [],
   "source": [
    "from pyspark.ml.regression import DecisionTreeRegressor"
   ]
  },
  {
   "cell_type": "code",
   "execution_count": 159,
   "id": "6547f0b4-71f3-48f6-9367-eef531384b99",
   "metadata": {
    "collapsed": true,
    "jupyter": {
     "outputs_hidden": true
    },
    "tags": []
   },
   "outputs": [
    {
     "name": "stdout",
     "output_type": "stream",
     "text": [
      "root\n",
      " |-- ID: long (nullable = true)\n",
      " |-- Reason_for_absence: long (nullable = true)\n",
      " |-- Month_of_absence: long (nullable = true)\n",
      " |-- Day_of_the_week: long (nullable = true)\n",
      " |-- Seasons: long (nullable = true)\n",
      " |-- Transportation_expense: long (nullable = true)\n",
      " |-- Distance_from_Residence_to_Work: long (nullable = true)\n",
      " |-- Service_time: long (nullable = true)\n",
      " |-- Age: long (nullable = true)\n",
      " |-- Work_load_Average/day_: double (nullable = true)\n",
      " |-- Hit_target: long (nullable = true)\n",
      " |-- Disciplinary_failure: long (nullable = true)\n",
      " |-- Education: long (nullable = true)\n",
      " |-- Son: long (nullable = true)\n",
      " |-- Social_drinker: long (nullable = true)\n",
      " |-- Social_smoker: long (nullable = true)\n",
      " |-- Pet: long (nullable = true)\n",
      " |-- Weight: long (nullable = true)\n",
      " |-- Height: long (nullable = true)\n",
      " |-- Body_mass_index: long (nullable = true)\n",
      " |-- Absenteeism_time_in_hours: long (nullable = true)\n",
      "\n"
     ]
    }
   ],
   "source": [
    "absentee_data.printSchema()"
   ]
  },
  {
   "cell_type": "markdown",
   "id": "c6a5af89-1dc9-481f-928a-bf0d33ac1e79",
   "metadata": {},
   "source": [
    "### Model 3 - Random Forest "
   ]
  },
  {
   "cell_type": "code",
   "execution_count": 83,
   "id": "0e290c63-3aba-49b5-867a-7972b4f6bffa",
   "metadata": {},
   "outputs": [],
   "source": [
    "from pyspark.ml.regression import RandomForestRegressor"
   ]
  },
  {
   "cell_type": "code",
   "execution_count": 267,
   "id": "4a609ee0-77f6-4040-bd73-1f270f04ccac",
   "metadata": {},
   "outputs": [],
   "source": [
    "# Creating random forest regressor instance for pipeline\n",
    "rf_regressor = RandomForestRegressor(featuresCol = 'features', labelCol='label')"
   ]
  },
  {
   "cell_type": "code",
   "execution_count": 268,
   "id": "33c5c4ee-bb43-4df9-8be8-8c6a7294595d",
   "metadata": {},
   "outputs": [],
   "source": [
    "# Creating random forest pipeline using all_vars_vectorAssembler and rf_regressor\n",
    "rf_pipeline = Pipeline(stages = [sqlTransLabel, all_vars_vectorAssembler, rf_regressor])"
   ]
  },
  {
   "cell_type": "markdown",
   "id": "59a3ded6-9e3e-4309-8948-49440a761c60",
   "metadata": {},
   "source": [
    "#### Parameters for Random Forest Model  \n",
    "\n",
    "There are several possible parameters available for a building the random forest model using `RandomForestRegressor()`. We will specify values/possible values for three parameters, `numTrees`, `featureSubsetStrategy`, and `maxDepth`.  \n",
    "\n",
    "1.  The `numTrees` parameter - This parameter has a default value of `20` trees. By increasing this value we can bring down the variance in our model as compared to the single regression tree. We will set this value to `100` for our models.  \n",
    "2.  The `featureSubsetStrategy` parameter - This parameter is the number of features to consider for splits at each tree mode.  Possible values for this parameter are:\n",
    "    - `auto` - When this parameter is set to `auto` the number of features will automatically be selected based on the number of trees and the type of model. Our model is a regression model with `100` trees, and as a result `onethird` would be selected automatically. Note that `auto` is the default value for `featureSubsetStrategy`.  \n",
    "    - `all` - Use all features. If this is selected `RandomForestRegressor()` generates a bagged tree model as opposed to a random forest model.   \n",
    "    - `onethird` - The number of features to consider for splits at each tree node will be the total number of features in our model divided by three.  This is usually used for regression problems.  \n",
    "    - `sqrt` - This will use the square root of the number of features for the number of features to consider. This is usually used for classification problems.  \n",
    "    - `log2` - \n",
    "3.  The `maxDepth` parameter - This is the value for the maximum depth of the tree, and can have values ranging from `0` to `30`, with a default value of `5`. The possible values of `maxDepth` that we will use during model selection are `5`, `10`, `15`, `20`, and `25`.  "
   ]
  },
  {
   "cell_type": "code",
   "execution_count": 319,
   "id": "0c949d69-c6cd-4e7f-aeae-1eb91e019e9d",
   "metadata": {},
   "outputs": [],
   "source": [
    "# Creating param grid for cross validation\n",
    "rf_paramGrid = ParamGridBuilder() \\\n",
    "    .addGrid(rf_regressor.numTrees, [10]) \\\n",
    "    .addGrid(rf_regressor.featureSubsetStrategy, ['all', 'onethird', 'sqrt', 'log2']) \\\n",
    "    .addGrid(rf_regressor.maxDepth, [5, 10, 15, 20, 25]) \\\n",
    "    .build()"
   ]
  },
  {
   "cell_type": "code",
   "execution_count": 320,
   "id": "003d2657-4df1-47fb-ba35-1b38dbbe41a6",
   "metadata": {},
   "outputs": [],
   "source": [
    "# Creating random forest crossvalidator\n",
    "rf_crossval = CrossValidator(estimator = rf_pipeline,\n",
    "                          estimatorParamMaps = rf_paramGrid,\n",
    "                          evaluator = RegressionEvaluator(metricName='rmse'),\n",
    "                          numFolds=5)"
   ]
  },
  {
   "cell_type": "code",
   "execution_count": 321,
   "id": "154b6cec-6576-40dd-802d-16b2c98ea8bf",
   "metadata": {
    "tags": []
   },
   "outputs": [],
   "source": [
    "# Fitting model using the random forest cross validator that we created\n",
    "rf_cv_model = rf_crossval.fit(train)"
   ]
  },
  {
   "cell_type": "code",
   "execution_count": 318,
   "id": "a25b15ea-6fee-42da-961b-40f43afadfda",
   "metadata": {},
   "outputs": [
    {
     "name": "stdout",
     "output_type": "stream",
     "text": [
      "Best Model Number of Trees: 10\n",
      "Best Model Max Depth: 5\n",
      "Best Model Feature Subset: featureSubsetStrategy: The number of features to consider for splits at each tree node. Supported options: 'auto' (choose automatically for task: If numTrees == 1, set to 'all'. If numTrees > 1 (forest), set to 'sqrt' for classification and to 'onethird' for regression), 'all' (use all features), 'onethird' (use 1/3 of the features), 'sqrt' (use sqrt(number of features)), 'log2' (use log2(number of features)), 'n' (when n is in the range (0, 1.0], use n * number of features. When n is in the range (1, number of features), use n features). default = 'auto' (default: auto, current: log2)\n",
      "Best Model Max Bins: <bound method _DecisionTreeParams.getMaxBins of RandomForestRegressionModel: uid=RandomForestRegressor_2310159c98ca, numTrees=10, numFeatures=20>\n"
     ]
    }
   ],
   "source": [
    "best_rf_Pipeline = rf_cv_model.bestModel\n",
    "best_rf_Model = best_rf_Pipeline.stages[2]\n",
    "print(f\"Best Model Number of Trees: {best_rf_Model.getNumTrees}\")\n",
    "print(f\"Best Model Max Depth: {best_rf_Model.getMaxDepth()}\")\n",
    "print(f\"Best Model Feature Subset: {best_rf_Model.explainParam('featureSubsetStrategy')}\")\n",
    "print(f\"Best Model Max Bins: {best_rf_Model.getMaxBins}\")"
   ]
  },
  {
   "cell_type": "code",
   "execution_count": 301,
   "id": "b4bfb130-0227-4b74-8a34-e63a37e81800",
   "metadata": {},
   "outputs": [
    {
     "data": {
      "text/plain": [
       "\"featureSubsetStrategy: The number of features to consider for splits at each tree node. Supported options: 'auto' (choose automatically for task: If numTrees == 1, set to 'all'. If numTrees > 1 (forest), set to 'sqrt' for classification and to 'onethird' for regression), 'all' (use all features), 'onethird' (use 1/3 of the features), 'sqrt' (use sqrt(number of features)), 'log2' (use log2(number of features)), 'n' (when n is in the range (0, 1.0], use n * number of features. When n is in the range (1, number of features), use n features). default = 'auto' (default: auto, current: sqrt)\""
      ]
     },
     "execution_count": 308,
     "metadata": {},
     "output_type": "execute_result"
    }
   ],
   "source": [
    "best_rf_Model.explainParam('featureSubsetStrategy')"
   ]
  },
  {
   "cell_type": "code",
   "execution_count": 314,
   "id": "c20559e3-4b55-4364-afa7-47836422f55a",
   "metadata": {},
   "outputs": [
    {
     "data": {
      "text/plain": [
       "\"featureSubsetStrategy: The number of features to consider for splits at each tree node. Supported options: 'auto' (choose automatically for task: If numTrees == 1, set to 'all'. If numTrees > 1 (forest), set to 'sqrt' for classification and to 'onethird' for regression), 'all' (use all features), 'onethird' (use 1/3 of the features), 'sqrt' (use sqrt(number of features)), 'log2' (use log2(number of features)), 'n' (when n is in the range (0, 1.0], use n * number of features. When n is in the range (1, number of features), use n features). default = 'auto' (default: auto, current: sqrt)\""
      ]
     },
     "execution_count": 314,
     "metadata": {},
     "output_type": "execute_result"
    }
   ],
   "source": [
    "best_rf_Model.explainParam('featureSubsetStrategy')"
   ]
  },
  {
   "cell_type": "code",
   "execution_count": 248,
   "id": "e80ce112-3a8a-48f6-9cf4-09c391dcdf82",
   "metadata": {},
   "outputs": [],
   "source": [
    "feature_list = ['ID',\n",
    " 'Reason_for_absence',\n",
    " 'Month_of_absence',\n",
    " 'Day_of_the_week',\n",
    " 'Seasons',\n",
    " 'Transportation_expense',\n",
    " 'Distance_from_Residence_to_Work',\n",
    " 'Service_time',\n",
    " 'Age',\n",
    " 'Work_load_Average/day_',\n",
    " 'Hit_target',\n",
    " 'Disciplinary_failure',\n",
    " 'Education',\n",
    " 'Son',\n",
    " 'Social_drinker',\n",
    " 'Social_smoker',\n",
    " 'Pet',\n",
    " 'Weight',\n",
    " 'Height',\n",
    " 'Body_mass_index']"
   ]
  },
  {
   "cell_type": "code",
   "execution_count": 250,
   "id": "8ea333d7-760f-43ca-b552-8cb40ce21b55",
   "metadata": {},
   "outputs": [
    {
     "data": {
      "text/plain": [
       "Text(0.5, 1.0, 'Feature Importances')"
      ]
     },
     "execution_count": 250,
     "metadata": {},
     "output_type": "execute_result"
    },
    {
     "data": {
      "image/png": "[encoded data removed]",
      "text/plain": [
       "<Figure size 640x480 with 1 Axes>"
      ]
     },
     "metadata": {},
     "output_type": "display_data"
    }
   ],
   "source": [
    "importances = best_rf_Model.featureImportances\n",
    "\n",
    "x_values = list(range(len(importances)))\n",
    "\n",
    "plt.bar(x_values, importances, orientation = 'vertical')\n",
    "plt.xticks(x_values, feature_list, rotation=90)\n",
    "plt.ylabel('Importance')\n",
    "plt.xlabel('Feature')\n",
    "plt.title('Feature Importances')"
   ]
  },
  {
   "cell_type": "code",
   "execution_count": 204,
   "id": "c00e6697-db0f-4a46-9de8-8a120e484db4",
   "metadata": {},
   "outputs": [
    {
     "name": "stdout",
     "output_type": "stream",
     "text": [
      "VectorAssembler_b2a16110667e\n"
     ]
    }
   ],
   "source": [
    "print(best_rf_Model)"
   ]
  },
  {
   "cell_type": "code",
   "execution_count": null,
   "id": "f0e8af20-ad25-4c63-974b-637bdd51503e",
   "metadata": {},
   "outputs": [],
   "source": []
  },
  {
   "cell_type": "code",
   "execution_count": 128,
   "id": "bfabd652-898c-49b1-a2bd-0ae7c328a3fd",
   "metadata": {},
   "outputs": [],
   "source": [
    "# Using Pipeline to train on our training set\n",
    "rf_model = rf_pipeline.fit(train)"
   ]
  },
  {
   "cell_type": "code",
   "execution_count": 135,
   "id": "df6c6192-b584-47f4-b693-1f30dedfcaa2",
   "metadata": {
    "tags": []
   },
   "outputs": [],
   "source": [
    "train_rf = rf_model.transform(train)"
   ]
  },
  {
   "cell_type": "code",
   "execution_count": 136,
   "id": "bbb9ff0f-82d8-4a8b-a4df-3336e1fc2863",
   "metadata": {},
   "outputs": [
    {
     "name": "stdout",
     "output_type": "stream",
     "text": [
      "Random Forest RMSE: 9.880168540281394\n",
      "Random Forest MAE: 4.348008526883441\n"
     ]
    }
   ],
   "source": [
    "train_rf_eval = RegressionEvaluator(labelCol = 'Absenteeism_time_in_hours')\n",
    "train_rf_rmse = train_rf_eval.evaluate(train_rf, {train_rf_eval.metricName:'rmse'})\n",
    "train_rf_mae = train_rf_eval.evaluate(train_rf,{train_rf_eval.metricName:'mae'})\n",
    "\n",
    "print(f\"Random Forest RMSE: {train_rf_rmse}\")\n",
    "print(f\"Random Forest MAE: {train_rf_mae}\")"
   ]
  },
  {
   "cell_type": "code",
   "execution_count": 129,
   "id": "fedd05cf-074f-44e7-9584-fef47af855d8",
   "metadata": {},
   "outputs": [],
   "source": [
    "# test model on test set\n",
    "rf_pred = rf_model.transform(test)"
   ]
  },
  {
   "cell_type": "code",
   "execution_count": 93,
   "id": "8a1d5d0c-b179-4622-8c8b-385b321c5bbf",
   "metadata": {
    "collapsed": true,
    "jupyter": {
     "outputs_hidden": true
    },
    "tags": []
   },
   "outputs": [
    {
     "data": {
      "text/html": [
       "<div>\n",
       "<style scoped>\n",
       "    .dataframe tbody tr th:only-of-type {\n",
       "        vertical-align: middle;\n",
       "    }\n",
       "\n",
       "    .dataframe tbody tr th {\n",
       "        vertical-align: top;\n",
       "    }\n",
       "\n",
       "    .dataframe thead th {\n",
       "        text-align: right;\n",
       "    }\n",
       "</style>\n",
       "<table border=\"1\" class=\"dataframe\">\n",
       "  <thead>\n",
       "    <tr style=\"text-align: right;\">\n",
       "      <th></th>\n",
       "      <th>ID</th>\n",
       "      <th>Reason_for_absence</th>\n",
       "      <th>Month_of_absence</th>\n",
       "      <th>Day_of_the_week</th>\n",
       "      <th>Seasons</th>\n",
       "      <th>Transportation_expense</th>\n",
       "      <th>Distance_from_Residence_to_Work</th>\n",
       "      <th>Service_time</th>\n",
       "      <th>Age</th>\n",
       "      <th>Work_load_Average/day_</th>\n",
       "      <th>...</th>\n",
       "      <th>Son</th>\n",
       "      <th>Social_drinker</th>\n",
       "      <th>Social_smoker</th>\n",
       "      <th>Pet</th>\n",
       "      <th>Weight</th>\n",
       "      <th>Height</th>\n",
       "      <th>Body_mass_index</th>\n",
       "      <th>Absenteeism_time_in_hours</th>\n",
       "      <th>features</th>\n",
       "      <th>prediction</th>\n",
       "    </tr>\n",
       "  </thead>\n",
       "  <tbody>\n",
       "    <tr>\n",
       "      <th>0</th>\n",
       "      <td>1</td>\n",
       "      <td>23</td>\n",
       "      <td>8</td>\n",
       "      <td>5</td>\n",
       "      <td>1</td>\n",
       "      <td>235</td>\n",
       "      <td>11</td>\n",
       "      <td>14</td>\n",
       "      <td>37</td>\n",
       "      <td>205.917</td>\n",
       "      <td>...</td>\n",
       "      <td>1</td>\n",
       "      <td>0</td>\n",
       "      <td>0</td>\n",
       "      <td>1</td>\n",
       "      <td>88</td>\n",
       "      <td>172</td>\n",
       "      <td>29</td>\n",
       "      <td>4</td>\n",
       "      <td>[1.0, 23.0, 8.0, 5.0, 1.0, 235.0, 11.0, 14.0, ...</td>\n",
       "      <td>4.279018</td>\n",
       "    </tr>\n",
       "    <tr>\n",
       "      <th>1</th>\n",
       "      <td>2</td>\n",
       "      <td>28</td>\n",
       "      <td>8</td>\n",
       "      <td>6</td>\n",
       "      <td>1</td>\n",
       "      <td>235</td>\n",
       "      <td>29</td>\n",
       "      <td>12</td>\n",
       "      <td>48</td>\n",
       "      <td>205.917</td>\n",
       "      <td>...</td>\n",
       "      <td>1</td>\n",
       "      <td>0</td>\n",
       "      <td>1</td>\n",
       "      <td>5</td>\n",
       "      <td>88</td>\n",
       "      <td>163</td>\n",
       "      <td>33</td>\n",
       "      <td>8</td>\n",
       "      <td>[2.0, 28.0, 8.0, 6.0, 1.0, 235.0, 29.0, 12.0, ...</td>\n",
       "      <td>3.643568</td>\n",
       "    </tr>\n",
       "    <tr>\n",
       "      <th>2</th>\n",
       "      <td>3</td>\n",
       "      <td>23</td>\n",
       "      <td>10</td>\n",
       "      <td>4</td>\n",
       "      <td>4</td>\n",
       "      <td>179</td>\n",
       "      <td>51</td>\n",
       "      <td>18</td>\n",
       "      <td>38</td>\n",
       "      <td>253.465</td>\n",
       "      <td>...</td>\n",
       "      <td>0</td>\n",
       "      <td>1</td>\n",
       "      <td>0</td>\n",
       "      <td>0</td>\n",
       "      <td>89</td>\n",
       "      <td>170</td>\n",
       "      <td>31</td>\n",
       "      <td>8</td>\n",
       "      <td>[3.0, 23.0, 10.0, 4.0, 4.0, 179.0, 51.0, 18.0,...</td>\n",
       "      <td>2.788034</td>\n",
       "    </tr>\n",
       "    <tr>\n",
       "      <th>3</th>\n",
       "      <td>5</td>\n",
       "      <td>19</td>\n",
       "      <td>9</td>\n",
       "      <td>3</td>\n",
       "      <td>1</td>\n",
       "      <td>235</td>\n",
       "      <td>20</td>\n",
       "      <td>13</td>\n",
       "      <td>43</td>\n",
       "      <td>241.476</td>\n",
       "      <td>...</td>\n",
       "      <td>1</td>\n",
       "      <td>1</td>\n",
       "      <td>0</td>\n",
       "      <td>0</td>\n",
       "      <td>106</td>\n",
       "      <td>167</td>\n",
       "      <td>38</td>\n",
       "      <td>8</td>\n",
       "      <td>[5.0, 19.0, 9.0, 3.0, 1.0, 235.0, 20.0, 13.0, ...</td>\n",
       "      <td>10.164765</td>\n",
       "    </tr>\n",
       "    <tr>\n",
       "      <th>4</th>\n",
       "      <td>6</td>\n",
       "      <td>11</td>\n",
       "      <td>7</td>\n",
       "      <td>5</td>\n",
       "      <td>1</td>\n",
       "      <td>189</td>\n",
       "      <td>29</td>\n",
       "      <td>13</td>\n",
       "      <td>33</td>\n",
       "      <td>239.554</td>\n",
       "      <td>...</td>\n",
       "      <td>2</td>\n",
       "      <td>0</td>\n",
       "      <td>0</td>\n",
       "      <td>2</td>\n",
       "      <td>69</td>\n",
       "      <td>167</td>\n",
       "      <td>25</td>\n",
       "      <td>8</td>\n",
       "      <td>[6.0, 11.0, 7.0, 5.0, 1.0, 189.0, 29.0, 13.0, ...</td>\n",
       "      <td>10.189508</td>\n",
       "    </tr>\n",
       "    <tr>\n",
       "      <th>...</th>\n",
       "      <td>...</td>\n",
       "      <td>...</td>\n",
       "      <td>...</td>\n",
       "      <td>...</td>\n",
       "      <td>...</td>\n",
       "      <td>...</td>\n",
       "      <td>...</td>\n",
       "      <td>...</td>\n",
       "      <td>...</td>\n",
       "      <td>...</td>\n",
       "      <td>...</td>\n",
       "      <td>...</td>\n",
       "      <td>...</td>\n",
       "      <td>...</td>\n",
       "      <td>...</td>\n",
       "      <td>...</td>\n",
       "      <td>...</td>\n",
       "      <td>...</td>\n",
       "      <td>...</td>\n",
       "      <td>...</td>\n",
       "      <td>...</td>\n",
       "    </tr>\n",
       "    <tr>\n",
       "      <th>154</th>\n",
       "      <td>22</td>\n",
       "      <td>27</td>\n",
       "      <td>6</td>\n",
       "      <td>6</td>\n",
       "      <td>3</td>\n",
       "      <td>179</td>\n",
       "      <td>26</td>\n",
       "      <td>9</td>\n",
       "      <td>30</td>\n",
       "      <td>275.089</td>\n",
       "      <td>...</td>\n",
       "      <td>0</td>\n",
       "      <td>0</td>\n",
       "      <td>0</td>\n",
       "      <td>0</td>\n",
       "      <td>56</td>\n",
       "      <td>171</td>\n",
       "      <td>19</td>\n",
       "      <td>2</td>\n",
       "      <td>[22.0, 27.0, 6.0, 6.0, 3.0, 179.0, 26.0, 9.0, ...</td>\n",
       "      <td>3.231718</td>\n",
       "    </tr>\n",
       "    <tr>\n",
       "      <th>155</th>\n",
       "      <td>23</td>\n",
       "      <td>0</td>\n",
       "      <td>5</td>\n",
       "      <td>4</td>\n",
       "      <td>3</td>\n",
       "      <td>378</td>\n",
       "      <td>49</td>\n",
       "      <td>11</td>\n",
       "      <td>36</td>\n",
       "      <td>237.656</td>\n",
       "      <td>...</td>\n",
       "      <td>2</td>\n",
       "      <td>0</td>\n",
       "      <td>1</td>\n",
       "      <td>4</td>\n",
       "      <td>65</td>\n",
       "      <td>174</td>\n",
       "      <td>21</td>\n",
       "      <td>0</td>\n",
       "      <td>[23.0, 0.0, 5.0, 4.0, 3.0, 378.0, 49.0, 11.0, ...</td>\n",
       "      <td>5.958150</td>\n",
       "    </tr>\n",
       "    <tr>\n",
       "      <th>156</th>\n",
       "      <td>25</td>\n",
       "      <td>16</td>\n",
       "      <td>4</td>\n",
       "      <td>3</td>\n",
       "      <td>3</td>\n",
       "      <td>235</td>\n",
       "      <td>16</td>\n",
       "      <td>8</td>\n",
       "      <td>32</td>\n",
       "      <td>246.288</td>\n",
       "      <td>...</td>\n",
       "      <td>0</td>\n",
       "      <td>0</td>\n",
       "      <td>0</td>\n",
       "      <td>0</td>\n",
       "      <td>75</td>\n",
       "      <td>178</td>\n",
       "      <td>25</td>\n",
       "      <td>3</td>\n",
       "      <td>[25.0, 16.0, 4.0, 3.0, 3.0, 235.0, 16.0, 8.0, ...</td>\n",
       "      <td>9.400370</td>\n",
       "    </tr>\n",
       "    <tr>\n",
       "      <th>157</th>\n",
       "      <td>34</td>\n",
       "      <td>8</td>\n",
       "      <td>6</td>\n",
       "      <td>6</td>\n",
       "      <td>1</td>\n",
       "      <td>118</td>\n",
       "      <td>10</td>\n",
       "      <td>10</td>\n",
       "      <td>37</td>\n",
       "      <td>275.089</td>\n",
       "      <td>...</td>\n",
       "      <td>0</td>\n",
       "      <td>0</td>\n",
       "      <td>0</td>\n",
       "      <td>0</td>\n",
       "      <td>83</td>\n",
       "      <td>172</td>\n",
       "      <td>28</td>\n",
       "      <td>2</td>\n",
       "      <td>[34.0, 8.0, 6.0, 6.0, 1.0, 118.0, 10.0, 10.0, ...</td>\n",
       "      <td>8.979252</td>\n",
       "    </tr>\n",
       "    <tr>\n",
       "      <th>158</th>\n",
       "      <td>34</td>\n",
       "      <td>10</td>\n",
       "      <td>6</td>\n",
       "      <td>4</td>\n",
       "      <td>1</td>\n",
       "      <td>118</td>\n",
       "      <td>10</td>\n",
       "      <td>10</td>\n",
       "      <td>37</td>\n",
       "      <td>275.089</td>\n",
       "      <td>...</td>\n",
       "      <td>0</td>\n",
       "      <td>0</td>\n",
       "      <td>0</td>\n",
       "      <td>0</td>\n",
       "      <td>83</td>\n",
       "      <td>172</td>\n",
       "      <td>28</td>\n",
       "      <td>3</td>\n",
       "      <td>[34.0, 10.0, 6.0, 4.0, 1.0, 118.0, 10.0, 10.0,...</td>\n",
       "      <td>9.267487</td>\n",
       "    </tr>\n",
       "  </tbody>\n",
       "</table>\n",
       "<p>159 rows × 23 columns</p>\n",
       "</div>"
      ],
      "text/plain": [
       "     ID  Reason_for_absence  Month_of_absence  Day_of_the_week  Seasons  \\\n",
       "0     1                  23                 8                5        1   \n",
       "1     2                  28                 8                6        1   \n",
       "2     3                  23                10                4        4   \n",
       "3     5                  19                 9                3        1   \n",
       "4     6                  11                 7                5        1   \n",
       "..   ..                 ...               ...              ...      ...   \n",
       "154  22                  27                 6                6        3   \n",
       "155  23                   0                 5                4        3   \n",
       "156  25                  16                 4                3        3   \n",
       "157  34                   8                 6                6        1   \n",
       "158  34                  10                 6                4        1   \n",
       "\n",
       "     Transportation_expense  Distance_from_Residence_to_Work  Service_time  \\\n",
       "0                       235                               11            14   \n",
       "1                       235                               29            12   \n",
       "2                       179                               51            18   \n",
       "3                       235                               20            13   \n",
       "4                       189                               29            13   \n",
       "..                      ...                              ...           ...   \n",
       "154                     179                               26             9   \n",
       "155                     378                               49            11   \n",
       "156                     235                               16             8   \n",
       "157                     118                               10            10   \n",
       "158                     118                               10            10   \n",
       "\n",
       "     Age  Work_load_Average/day_  ...  Son  Social_drinker  Social_smoker  \\\n",
       "0     37                 205.917  ...    1               0              0   \n",
       "1     48                 205.917  ...    1               0              1   \n",
       "2     38                 253.465  ...    0               1              0   \n",
       "3     43                 241.476  ...    1               1              0   \n",
       "4     33                 239.554  ...    2               0              0   \n",
       "..   ...                     ...  ...  ...             ...            ...   \n",
       "154   30                 275.089  ...    0               0              0   \n",
       "155   36                 237.656  ...    2               0              1   \n",
       "156   32                 246.288  ...    0               0              0   \n",
       "157   37                 275.089  ...    0               0              0   \n",
       "158   37                 275.089  ...    0               0              0   \n",
       "\n",
       "     Pet  Weight  Height  Body_mass_index  Absenteeism_time_in_hours  \\\n",
       "0      1      88     172               29                          4   \n",
       "1      5      88     163               33                          8   \n",
       "2      0      89     170               31                          8   \n",
       "3      0     106     167               38                          8   \n",
       "4      2      69     167               25                          8   \n",
       "..   ...     ...     ...              ...                        ...   \n",
       "154    0      56     171               19                          2   \n",
       "155    4      65     174               21                          0   \n",
       "156    0      75     178               25                          3   \n",
       "157    0      83     172               28                          2   \n",
       "158    0      83     172               28                          3   \n",
       "\n",
       "                                              features  prediction  \n",
       "0    [1.0, 23.0, 8.0, 5.0, 1.0, 235.0, 11.0, 14.0, ...    4.279018  \n",
       "1    [2.0, 28.0, 8.0, 6.0, 1.0, 235.0, 29.0, 12.0, ...    3.643568  \n",
       "2    [3.0, 23.0, 10.0, 4.0, 4.0, 179.0, 51.0, 18.0,...    2.788034  \n",
       "3    [5.0, 19.0, 9.0, 3.0, 1.0, 235.0, 20.0, 13.0, ...   10.164765  \n",
       "4    [6.0, 11.0, 7.0, 5.0, 1.0, 189.0, 29.0, 13.0, ...   10.189508  \n",
       "..                                                 ...         ...  \n",
       "154  [22.0, 27.0, 6.0, 6.0, 3.0, 179.0, 26.0, 9.0, ...    3.231718  \n",
       "155  [23.0, 0.0, 5.0, 4.0, 3.0, 378.0, 49.0, 11.0, ...    5.958150  \n",
       "156  [25.0, 16.0, 4.0, 3.0, 3.0, 235.0, 16.0, 8.0, ...    9.400370  \n",
       "157  [34.0, 8.0, 6.0, 6.0, 1.0, 118.0, 10.0, 10.0, ...    8.979252  \n",
       "158  [34.0, 10.0, 6.0, 4.0, 1.0, 118.0, 10.0, 10.0,...    9.267487  \n",
       "\n",
       "[159 rows x 23 columns]"
      ]
     },
     "execution_count": 93,
     "metadata": {},
     "output_type": "execute_result"
    }
   ],
   "source": [
    "rf_pred.toPandas()"
   ]
  },
  {
   "cell_type": "raw",
   "id": "d3435a12-66c0-4ea2-b58f-ad8e29272448",
   "metadata": {},
   "source": []
  },
  {
   "cell_type": "raw",
   "id": "e7049afd-3636-4605-9def-a4c497d5218c",
   "metadata": {},
   "source": []
  },
  {
   "cell_type": "markdown",
   "id": "bebf1b8c-1825-41f5-867e-37b33618326e",
   "metadata": {},
   "source": [
    "### Model 4  - Gradient Boosted Regression Tree"
   ]
  },
  {
   "cell_type": "code",
   "execution_count": 46,
   "id": "5718804c-13aa-4816-8b88-1a331a58ab15",
   "metadata": {},
   "outputs": [],
   "source": [
    "from pyspark.ml.regression import GBTRegressor"
   ]
  },
  {
   "cell_type": "markdown",
   "id": "b96242f0-f2e2-403b-ae62-3e8931afd91d",
   "metadata": {},
   "source": [
    "### Model 5 - kNN Model  "
   ]
  },
  {
   "cell_type": "markdown",
   "id": "7e3845fe-52ec-4333-a991-70abe7936e65",
   "metadata": {},
   "source": [
    "# Model Testing  \n",
    "\n",
    "In this section we will determine the best overall model for predicting the number of absentee hours."
   ]
  },
  {
   "cell_type": "markdown",
   "id": "0d469e69-4e3f-443e-942e-4c02abeb5dec",
   "metadata": {},
   "source": [
    "### Model 1 - MLR "
   ]
  },
  {
   "cell_type": "code",
   "execution_count": null,
   "id": "b6d19610-26e7-45ac-883c-ce6e689e0499",
   "metadata": {},
   "outputs": [],
   "source": [
    "MLR_eval = RegressionEvaluator(labelCol = 'Absenteeism_time_in_hours')\n",
    "MLR_rmse = MLR_eval.evaluate(pred, {MLR_eval.metricName:'rmse'})\n",
    "MLR_mae =MLR_eval.evaluate(pred,{MLR_eval.metricName:'mae'})"
   ]
  },
  {
   "cell_type": "markdown",
   "id": "d7771c9c-6750-4687-80fb-75b7cb7c411e",
   "metadata": {},
   "source": [
    "### Model 2 - Regression Tree "
   ]
  },
  {
   "cell_type": "code",
   "execution_count": null,
   "id": "efe51ba9-1aac-4806-bed9-dee975eb06ac",
   "metadata": {},
   "outputs": [],
   "source": []
  },
  {
   "cell_type": "markdown",
   "id": "ae124f7f-da34-42c7-86cc-977c223618d5",
   "metadata": {},
   "source": [
    "### Model 3 - Random Forest  "
   ]
  },
  {
   "cell_type": "code",
   "execution_count": 130,
   "id": "4603dd8b-a95f-4421-abdb-c55787739169",
   "metadata": {},
   "outputs": [
    {
     "name": "stdout",
     "output_type": "stream",
     "text": [
      "Random Forest RMSE: 10.907451309871483\n",
      "Random Forest MAE: 4.946910017569946\n"
     ]
    }
   ],
   "source": [
    "rf_eval = RegressionEvaluator(labelCol = 'Absenteeism_time_in_hours')\n",
    "rf_rmse = rf_eval.evaluate(rf_pred, {rf_eval.metricName:'rmse'})\n",
    "rf_mae = rf_eval.evaluate(rf_pred,{rf_eval.metricName:'mae'})\n",
    "\n",
    "print(f\"Random Forest RMSE: {rf_rmse}\")\n",
    "print(f\"Random Forest MAE: {rf_mae}\")"
   ]
  },
  {
   "cell_type": "markdown",
   "id": "5eff1a33-dcdc-47ce-998a-2e2a75eb6761",
   "metadata": {},
   "source": [
    "### Model 4 - Gradient Boosted Regression Tree   "
   ]
  },
  {
   "cell_type": "code",
   "execution_count": null,
   "id": "5c5016bd-6c24-4e5a-9545-3fd64a51a363",
   "metadata": {},
   "outputs": [],
   "source": []
  },
  {
   "cell_type": "markdown",
   "id": "4ec4949f-6503-4427-8f86-c370edf65a4a",
   "metadata": {},
   "source": [
    "### Model 5 - kNN"
   ]
  },
  {
   "cell_type": "code",
   "execution_count": null,
   "id": "2ec706a2-a98c-468c-adbb-8e7393edfb39",
   "metadata": {},
   "outputs": [],
   "source": []
  }
 ],
 "metadata": {
  "kernelspec": {
   "display_name": "Python 3 (ipykernel)",
   "language": "python",
   "name": "python3"
  },
  "language_info": {
   "codemirror_mode": {
    "name": "ipython",
    "version": 3
   },
   "file_extension": ".py",
   "mimetype": "text/x-python",
   "name": "python",
   "nbconvert_exporter": "python",
   "pygments_lexer": "ipython3",
   "version": "3.10.8"
  },
  "toc-autonumbering": false
 },
 "nbformat": 4,
 "nbformat_minor": 5
}
